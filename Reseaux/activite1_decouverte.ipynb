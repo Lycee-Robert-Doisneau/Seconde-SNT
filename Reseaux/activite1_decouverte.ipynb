{
 "cells": [
  {
   "cell_type": "markdown",
   "metadata": {},
   "source": [
    "## <div align = right> 2020-2021 </div>\n",
    "### <center> Seconde SNT - Les réseaux informatiques </center>\n",
    "### <center> Activité 1: Introduction</center>\n",
    "---\n",
    "### Introduction\n",
    "Nous avons abordé la notion de données liées aux machines numériques. Nous allons maintenant découvrir la mise en relation de plusieurs machines dans un but de communication. Dès lors que deux machines établissent un lien entre elles, nous parlons alors de **mise en réseau**.\n",
    "\n",
    "Dans la même sémantique que pour le domaine des transports (réseaux ferroviaire / routier / métros), des relations sociales humaines (réseaux sociaux / professionnel) ou de la biologie du corps humain (réseaux nerveux / sanguin) les réseaux informatiques représentent l'**infrastructure** permettant la circulation des données au sein d'un espace plus ou moins étendu.\n",
    "\n",
    "### Exemple d'un réseau domestique (chez vous) autour d'une \"box\":\n",
    "[![reseau domestique](https://cours-informatique-gratuit.fr/wp-content/uploads/2014/05/brancher-internet.jpg)](https://cours-informatique-gratuit.fr/cours/reseau-domestique/)"
   ]
  },
  {
   "cell_type": "markdown",
   "metadata": {},
   "source": [
    "### 1.Eléments d'un réseau informatique\n",
    "\n",
    "En prenant comme modèle un réseau de transport urbain type métro / tram / bus, nous retrouvons deux éléments essentiels dans un réseau:\n",
    "- les **nœuds** que l'on peut voir comme des points dans l'espace. Le maillage d'un réseau est bien équilibré lorsque des points sont repartis sur l'ensemble du réseau pour assurer une large couverture. Les noeuds sont les stations d'arrêt pour permettre aux usagers de circuler d'un point à un autre du réseau de transport.\n",
    "\n",
    "**Repérer les différents nœuds identifiables dans le réseau domestique ci-dessus.**"
   ]
  },
  {
   "cell_type": "code",
   "execution_count": null,
   "metadata": {},
   "outputs": [],
   "source": [
    "#########################                            - Exercice 1 -\n",
    "from librairie import * #                     Découverte du réseau domestique (chez vous)\n",
    "activite1_ex1()         #\n",
    "#########################\n",
    "#\n",
    "# Exécuter pour lancer l'exercice\n",
    "#\n",
    "# Saisir une proposition de noeud pour le réseau domestique (chez vous)\n",
    "#\n",
    "# L'exercice se termine lorsque vous avez validé tous les nœuds identifiables\n",
    "#\n",
    "#########################"
   ]
  },
  {
   "cell_type": "markdown",
   "metadata": {},
   "source": [
    "- les **liaisons** que l'on peut voir comme les liens entre les différents nœuds du réseau. Les données circulent alors entre les nœuds à travers différents types de liaisons où chacun présentes ses caractéristiques comme dans les transports (bus / tramways / métro).\n",
    "\n",
    "**Repérer les différentes liaisons identifiables dans le réseau domestique ci-dessus.**"
   ]
  },
  {
   "cell_type": "code",
   "execution_count": null,
   "metadata": {},
   "outputs": [],
   "source": [
    "#########################                            - Exercice 2 -\n",
    "from librairie import * #                     Découverte du réseau domestique (chez vous)\n",
    "activite1_ex2()         #\n",
    "#########################\n",
    "#\n",
    "# Exécuter pour lancer l'exercice\n",
    "#\n",
    "# Saisir une proposition de liaison pour le réseau domestique (chez vous)\n",
    "#\n",
    "# L'exercice se termine lorsque vous avez validé toutes les liaisons identifiables\n",
    "#\n",
    "#########################"
   ]
  },
  {
   "cell_type": "markdown",
   "metadata": {},
   "source": [
    "### 2.Communication au sein d'un réseau informatique\n",
    "\n",
    "Lorsque deux éléments (nœuds) doivent communiquer entre eux, il faut établir alors une liaisons permettant aux données numériques de circuler. Si le chemin existe (et que les données sont autorisées à le prendre), il est possible de:\n",
    "- commander à distance un appareil\n",
    "- partager des fichiers informatiques\n",
    "- envoyer / recevoir des messages\n",
    "\n",
    "**Repérer les chemins empruntés par les données lors des situations ci-dessous:**"
   ]
  },
  {
   "cell_type": "code",
   "execution_count": null,
   "metadata": {},
   "outputs": [],
   "source": [
    "#########################                            - Exercice 3 -\n",
    "from librairie import * #                     Situations de communication\n",
    "activite1_ex3()         #\n",
    "#########################\n",
    "#\n",
    "# Exécuter pour lancer l'exercice\n",
    "#\n",
    "# Saisir un numéro de proposition de chemin parmi les suggestions\n",
    "#\n",
    "# L'exercice se termine par un total de bonnes réponses\n",
    "#\n",
    "#########################"
   ]
  },
  {
   "cell_type": "markdown",
   "metadata": {},
   "source": [
    "---\n",
    "### <center>Pour aller plus loin</center>\n",
    "#### 1.  Créer une liste d'équipements pouvant intégrer un réseau informatique en observant votre quotidien (chez vous / au lycée / objets connectés / réseaux public / point d'accès mobile / ...)"
   ]
  },
  {
   "cell_type": "code",
   "execution_count": null,
   "metadata": {},
   "outputs": [],
   "source": []
  },
  {
   "cell_type": "markdown",
   "metadata": {},
   "source": [
    "#### 2.  Créer une liste de technologies permettant de relier des équipements entre eux)"
   ]
  },
  {
   "cell_type": "code",
   "execution_count": null,
   "metadata": {},
   "outputs": [],
   "source": []
  }
 ],
 "metadata": {
  "kernelspec": {
   "display_name": "Python 3",
   "language": "python",
   "name": "python3"
  },
  "language_info": {
   "codemirror_mode": {
    "name": "ipython",
    "version": 3
   },
   "file_extension": ".py",
   "mimetype": "text/x-python",
   "name": "python",
   "nbconvert_exporter": "python",
   "pygments_lexer": "ipython3",
   "version": "3.9.1"
  }
 },
 "nbformat": 4,
 "nbformat_minor": 4
}
