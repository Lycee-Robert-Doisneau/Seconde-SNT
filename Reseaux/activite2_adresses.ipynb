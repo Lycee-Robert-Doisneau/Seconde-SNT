{
 "cells": [
  {
   "cell_type": "markdown",
   "metadata": {},
   "source": [
    "## <div align = right> 2020-2021 </div>\n",
    "### <center> Seconde SNT - Les réseaux </center>\n",
    "### <center> Activité 2: Adresses IP</center>\n",
    "---\n",
    "### Introduction\n",
    "Nous avons vu qu'un réseaux informatiques était composé d'équipements (nœuds) et liaisons pour constituer un ensemble communiquant. \n",
    "\n",
    "A l'image de la distribution du courrier, les données circulent entre un émetteur et un récepteur. Il est alors nécessaire d'établir des règles permettant d'établir cette distribution des données. Nous retrouvons alors la notion d'**adresse** afin de localiser le destinataire dans le réseau de distribution. Dans cette adresse, certaines informations sont:\n",
    "- **publiques** lorsqu'elles sont reglementées dans le réseau: *Les codes postaux / noms de rues / numéro de département sont définis par l'état / etc* \n",
    "\n",
    "\n",
    "- **privée** lorsqu'elles n'ont du sens que dans une partie locale du réseau et choisies par les particulier: *Nom de résidence / Numéro d'allée / etc*\n",
    "\n",
    "**A partir de l'exemple ci-dessous, repérer les éléments publics et privés des adresses proposées**\n",
    "![pro](https://blog.bureaudeposte.net/wp-content/uploads/2016/09/Enveloppes-Adresse-Professionnel.jpg)\n",
    "![part](https://blog.bureaudeposte.net/wp-content/uploads/2016/09/Enveloppes-Adresse-Particulier.jpg) \n",
    "\n",
    "---\n",
    "Dans un réseau les nœuds sont tous identifiés par une **adresse IP** (**I**nternet **P**rotocol). \n",
    "- Lorsqu'une adresse est **publique**, elle est attribuée par différents organismes ([**I.A.N.A** pour l'international](https://www.numelion.com/qui-distribue-les-adresses-ip-publiques.html)).\n",
    "- Lorsqu'une adresse est **privée**, elle est attribuée par l'administrateur local du réseau particulier ([**Box,Serveur**]())\n",
    "\n",
    "**Qu'elle soit privée ou publique, une adresse IP est toujours constituée de 4 octets séparés par un point**. Nous parlons alors d'adresse **IPV4**. \n",
    "\n",
    "Pour rappel, un **octet** étant un nombre binaire de **8 bits**, une adresse revient alors à une valeur binaire de **32 bits**. Les adresses sont alors rédigées en écriture décimale lorsqu'elle est en langage humain et en écriture binaire lorsqu'elle en langage machine.\n",
    "\n",
    "`Exemple 192.168.0.42 --> 1100 0000.1010 1000.0000 0000.0000 0001`"
   ]
  },
  {
   "cell_type": "code",
   "execution_count": null,
   "metadata": {},
   "outputs": [],
   "source": [
    "#########################                            - Exercice 1 -\n",
    "from librairie import * #                   Conversions d'adresses IP décimales\n",
    "activite2_ex1()         #\n",
    "#########################\n",
    "#\n",
    "# Exécuter pour lancer l'exercice\n",
    "#\n",
    "# Saisir une proposition d'adresse binaire\n",
    "#\n",
    "# Appuyer sur Entrée pour recommencer l'exercice. Taper 'non' pour arrêter\n",
    "#\n",
    "#########################"
   ]
  },
  {
   "cell_type": "code",
   "execution_count": null,
   "metadata": {},
   "outputs": [],
   "source": [
    "#########################                            - Exercice 2 -\n",
    "from librairie import * #                   Conversions d'adresses IP binaires\n",
    "activite2_ex2()         #\n",
    "#########################\n",
    "#\n",
    "# Exécuter pour lancer l'exercice\n",
    "#\n",
    "# Saisir une proposition d'adresse décimale\n",
    "#\n",
    "# Appuyer sur Entrée pour recommencer l'exercice. Taper 'non' pour arrêter\n",
    "#\n",
    "#########################"
   ]
  },
  {
   "cell_type": "markdown",
   "metadata": {},
   "source": [
    "### Adresses dans un réseau\n",
    "\n",
    "Pour appartenir à un même réseau les machines connectées (**hôtes**) doivent avoir une adresse dans ce réseau. A l'échelle binaire, les adresses IP sont en réalité la juxtaposition de deux informations:\n",
    "- L'adresse **réseau** qui doit être commune à toutes les machines d'un même réseau\n",
    "- L'adresse **machine (hôte)** qui doit être unique dans tout le réseau et associée à une seule machine\n",
    "\n",
    "Comme une adresse est toujours composée de 32 bits, les adresses réseau et machine côte-à-côte tiennent sur exactement 32 bits... mais la taille de chacune peut s'ajuster en fonction du besoin:\n",
    "\n",
    "*exemple A: adresse réseau de 8 bits + adresse machine de 24 bits*   \n",
    "*exemple B: adresse réseau de 16 bits + adresse machine de 16 bits*   \n",
    "*exemple C: adresse réseau de 24 bits + adresse machine de 8 bits*  \n",
    "\n",
    "C'est le masque qui permet à l'ordinateur de différencier les deux parties distinctement:\n",
    "![masque](http://silanus.fr/sin/formationSTI2D/ModuleReseau/res/reseau25_1.png)\n",
    "\n",
    "\n",
    "Dans la version binaire du masque, la partie réseau de l'adresse est en face des 1 du masque. La partie machine est en face des 0 du masque. Chaque adresse est complétée par des 0 dans la partie manquante.\n"
   ]
  },
  {
   "cell_type": "code",
   "execution_count": null,
   "metadata": {},
   "outputs": [],
   "source": [
    "#########################                            - Exercice 3 -\n",
    "from librairie import * #                   Adresses Réseau Machine\n",
    "activite2_ex3()         #\n",
    "#########################\n",
    "#\n",
    "# Exécuter pour lancer l'exercice\n",
    "#\n",
    "# Saisir une proposition d'adresse réseau, \n",
    "#\n",
    "# puis une proposition d'adresse machine\n",
    "#\n",
    "#########################"
   ]
  },
  {
   "cell_type": "markdown",
   "metadata": {},
   "source": [
    "Pour un réseau donné (adresse réseau fixée), il existe plusieurs adresses caractéristiques de ce réseau:\n",
    "- l'adresse de **la première machine**: adresse combinant la partie réseau à la première partie machine possible après l'adresse réseau.\n",
    "- l'adresse de **la dernière machine**: adresse combinant la partie réseau à la dernière partie machine possible avant le broadcast.\n",
    "- l'adresse du **broadcast**: message à destination de TOUTES les machines du réseau. Sous forme binaire, la partie machine est complétée de 1\n",
    "- l'adresse du **masque**: Conversion décimale du masque binaire"
   ]
  },
  {
   "cell_type": "code",
   "execution_count": null,
   "metadata": {},
   "outputs": [],
   "source": [
    "#########################                            - Exercice 4 -\n",
    "from librairie import * #                   Adresses Caractéristiques\n",
    "activite2_ex4()         #\n",
    "#########################\n",
    "#\n",
    "# Exécuter pour lancer l'exercice\n",
    "#\n",
    "# Saisir une proposition pour chaque adresse caractéristique\n",
    "#\n",
    "# Saisir une proposotion d'adresse décimale du masque\n",
    "#\n",
    "#########################"
   ]
  },
  {
   "cell_type": "markdown",
   "metadata": {},
   "source": [
    "[Ressources: http://silanus.fr/sin/formationISN/Parcours/Reseaux/co/Reseau_11.html](http://silanus.fr/sin/formationISN/Parcours/Reseaux/co/Reseau_11.html)"
   ]
  }
 ],
 "metadata": {
  "kernelspec": {
   "display_name": "Python 3",
   "language": "python",
   "name": "python3"
  },
  "language_info": {
   "codemirror_mode": {
    "name": "ipython",
    "version": 3
   },
   "file_extension": ".py",
   "mimetype": "text/x-python",
   "name": "python",
   "nbconvert_exporter": "python",
   "pygments_lexer": "ipython3",
   "version": "3.9.1"
  }
 },
 "nbformat": 4,
 "nbformat_minor": 4
}
