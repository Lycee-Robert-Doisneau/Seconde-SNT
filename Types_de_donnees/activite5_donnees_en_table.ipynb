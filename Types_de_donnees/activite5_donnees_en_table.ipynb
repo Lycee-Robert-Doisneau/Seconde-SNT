{
 "cells": [
  {
   "cell_type": "markdown",
   "metadata": {},
   "source": [
    "## <div align = right> 2020-2021 </div>\n",
    "### <center> Seconde SNT - Les types de données </center>\n",
    "### <center> Activité 5: Données en table</center>\n",
    "---\n",
    "### Introduction\n",
    "Nous avons abordé la notion de **variable** dans le but de placer une donnée en mémoire. La règle étant qu'une variable stocke une valeur accessible à l'appel de son nom. Nous aurions par exemple le script suivant pour représenter l'identité d'un élève:\n",
    "\n",
    "![carte_id](https://www.ville-saint-mathieu-de-treviers.fr/local/cache-vignettes/L270xH179/carte_id_logo_art-c39f7.jpg)\n"
   ]
  },
  {
   "cell_type": "code",
   "execution_count": null,
   "metadata": {},
   "outputs": [],
   "source": [
    "nom = \"Martin\"\n",
    "prenom = \"Charles\"\n",
    "naissance = \"01/03/1975\"\n",
    "login = \"charles.martin\"\n",
    "passwd = \"********\""
   ]
  },
  {
   "cell_type": "markdown",
   "metadata": {},
   "source": [
    "Dans la base de données, un élève est caractérisé par des **descripteurs**. Ainsi tous les élèves de la base ont un profil identique et des valeurs différentes.  \n",
    "Ici, une seule personne est représentée par plusieurs variables indépendantes et déconnectées. Nous allons imaginer alors un nouveau type de variable capable de garder plusieurs valeurs rangées sous une même étiquette:\n",
    "\n",
    "- Soit les valeurs sont rangées en face d'une **valeur numérique**. Il s'agit d'une `liste`.\n",
    "- Soit les valeurs sont rangées en face d'un **texte**. Il s'agit d'un `dictionnaire`.\n",
    "\n"
   ]
  },
  {
   "cell_type": "code",
   "execution_count": 1,
   "metadata": {},
   "outputs": [],
   "source": [
    "eleve = [\"Martin\",\n",
    "        \"Charles\",\n",
    "        \"01/03/1975\",\n",
    "        \"charles.martin\",\n",
    "        \"********\"]"
   ]
  },
  {
   "cell_type": "code",
   "execution_count": null,
   "metadata": {},
   "outputs": [],
   "source": []
  }
 ],
 "metadata": {
  "kernelspec": {
   "display_name": "Python 3",
   "language": "python",
   "name": "python3"
  },
  "language_info": {
   "codemirror_mode": {
    "name": "ipython",
    "version": 3
   },
   "file_extension": ".py",
   "mimetype": "text/x-python",
   "name": "python",
   "nbconvert_exporter": "python",
   "pygments_lexer": "ipython3",
   "version": "3.8.6"
  }
 },
 "nbformat": 4,
 "nbformat_minor": 4
}
