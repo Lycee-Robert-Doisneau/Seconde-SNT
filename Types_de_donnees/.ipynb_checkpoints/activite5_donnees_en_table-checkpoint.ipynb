{
 "cells": [
  {
   "cell_type": "markdown",
   "metadata": {},
   "source": [
    "## <div align = right> 2020-2021 </div>\n",
    "### <center> Seconde SNT - Les types de données </center>\n",
    "### <center> Activité 5: Données en table</center>\n",
    "---\n",
    "### Introduction\n",
    "Nous avons abordé la notion de **variable** dans le but de placer une donnée en mémoire. La règle étant qu'une variable stocke une valeur accessible à l'appel de son nom. Nous aurions par exemple le script suivant pour représenter l'identité d'un élève:\n",
    "\n",
    "![carte_id](https://www.ville-saint-mathieu-de-treviers.fr/local/cache-vignettes/L270xH179/carte_id_logo_art-c39f7.jpg)\n"
   ]
  },
  {
   "cell_type": "code",
   "execution_count": null,
   "metadata": {},
   "outputs": [],
   "source": [
    "nom = \"Martin\"\n",
    "prenom = \"Charles\"\n",
    "naissance = \"01/03/1975\"\n",
    "login = \"charles.martin\"\n",
    "passwd = \"********\""
   ]
  },
  {
   "cell_type": "markdown",
   "metadata": {},
   "source": [
    "Dans la base de données, un élève est caractérisé par des **descripteurs**. Ainsi tous les élèves de la base ont un profil identique et des valeurs différentes.  \n",
    "Ici, une seule personne est représentée par plusieurs variables indépendantes et déconnectées. Nous allons imaginer alors un nouveau type de variable capable de garder plusieurs valeurs rangées sous une même étiquette:\n",
    "\n",
    "- Soit les valeurs sont rangées en face d'une **valeur numérique** (*indice*). Il s'agit d'une `liste`.\n",
    "- Soit les valeurs sont rangées en face d'un **texte** (*clé*). Il s'agit d'un `dictionnaire`.\n",
    "\n",
    "Dans tous les cas, il s'agit d'un ensemble de valeurs où chacune est accessible à l'aide du nom de la variable avec la clé ou l'indice entre crochets `[ ]`. L'intérêt est qu'une entité (personne, objet,...) peut être accessible soit dans sa globalité, soit par une ou plusieurs caractéristiques en fonction du besoin."
   ]
  },
  {
   "cell_type": "code",
   "execution_count": null,
   "metadata": {},
   "outputs": [],
   "source": [
    "eleve_list = [\"Martin\",\n",
    "              \"Charles\",\n",
    "              \"01/03/1975\",\n",
    "              \"charles.martin\",\n",
    "              \"********\"]\n",
    "print(type(eleve_list))"
   ]
  },
  {
   "cell_type": "code",
   "execution_count": null,
   "metadata": {
    "scrolled": true
   },
   "outputs": [],
   "source": [
    "eleve_dict = {\"nom\" : \"Martin\",\n",
    "              \"prenom\" : \"Charles\",\n",
    "              \"naissance\" : \"01/03/1975\",\n",
    "              \"login\" : \"charles.martin\",\n",
    "              \"passwd\" : \"********\"}\n",
    "print(type(eleve_dict))"
   ]
  },
  {
   "cell_type": "markdown",
   "metadata": {},
   "source": [
    "---\n",
    "### Analyse d'une liste\n",
    "Pour rappel, les valeurs sont rangées en face d'un **indice**. Les valeurs des indices sont autogérées par Python en fonction de l'ajout ou de la suppression de valeurs dans la liste. La règle des indices est que cela commence à la valeur `0` pour la première valeur et que les indices sont successivement les valeurs entières positives sans omission.    \n",
    "\n",
    "La liste se crée en encadrant les valeurs par **une paire de crochets** `[ ]` et en les séparant d'une virgule."
   ]
  },
  {
   "cell_type": "code",
   "execution_count": null,
   "metadata": {},
   "outputs": [],
   "source": [
    "liste_fruit = [\"pomme\",\"poire\",\"kiwi\"]\n",
    "print(\"liste_fruit:\",liste_fruit)\n",
    "print(\"le fruit d'indice 2:\",liste_fruit[2])\n",
    "\n",
    "liste_fruit.append(\"fraise\")\n",
    "print(\"- après ajout:\",liste_fruit)\n",
    "\n",
    "liste_fruit.remove(\"kiwi\")\n",
    "print(\"- après suppression:\",liste_fruit)\n",
    "print(\"le fruit d'indice 2:\",liste_fruit[2])\n",
    "\n",
    "liste_fruit[0] = \"pêche\"\n",
    "print(\"- après modification:\",liste_fruit)"
   ]
  },
  {
   "cell_type": "markdown",
   "metadata": {},
   "source": [
    "**A votre tour, ajouter le fruit de votre choix et retirer la pomme et la poire de la liste.**"
   ]
  },
  {
   "cell_type": "code",
   "execution_count": null,
   "metadata": {},
   "outputs": [],
   "source": [
    "# Retirer la pomme:\n"
   ]
  },
  {
   "cell_type": "code",
   "execution_count": null,
   "metadata": {},
   "outputs": [],
   "source": [
    "# Retirer la poire:\n"
   ]
  },
  {
   "cell_type": "code",
   "execution_count": null,
   "metadata": {},
   "outputs": [],
   "source": [
    "# Ajouter un fruit de votre choix:\n"
   ]
  },
  {
   "cell_type": "code",
   "execution_count": null,
   "metadata": {},
   "outputs": [],
   "source": [
    "print(liste_fruit)"
   ]
  },
  {
   "cell_type": "markdown",
   "metadata": {},
   "source": [
    "---\n",
    "### <center>Exercices</center>\n",
    "\n",
    "\n",
    "![FordT](https://upload.wikimedia.org/wikipedia/commons/thumb/4/4d/Australian_Model_T_Ford.jpg/220px-Australian_Model_T_Ford.jpg)\n",
    "\n",
    "\n",
    "```python\n",
    "marque = \"Ford\"\n",
    "modele = \"T\"\n",
    "annee = \"1908\"\n",
    "vitesse_max = 70\n",
    "poids = 544\n",
    "\n",
    "``` \n",
    "\n"
   ]
  },
  {
   "cell_type": "markdown",
   "metadata": {},
   "source": [
    "#### 1. Créer une liste qui reprend les données ci-dessus dans une variable unique appelée `voiture`."
   ]
  },
  {
   "cell_type": "code",
   "execution_count": null,
   "metadata": {},
   "outputs": [],
   "source": [
    "# création de la liste voiture:\n"
   ]
  },
  {
   "cell_type": "markdown",
   "metadata": {},
   "source": [
    "#### 2. Une fois votre liste `voiture` créée, quelle instruction permettrait d'obtenir l'affichage des informations suivantes : `\"Ford T\"`"
   ]
  },
  {
   "cell_type": "code",
   "execution_count": null,
   "metadata": {},
   "outputs": [],
   "source": [
    "# Affichage de la voiture par sa marque et son modèle:\n"
   ]
  },
  {
   "cell_type": "markdown",
   "metadata": {},
   "source": [
    "#### 3. En réutilisant des fonctions vues précédemment, créer un script qui demande à l'utilisateur ses informations personnelles (nom, prenom, pseudo, mail, mot de passe) et affiche un message intéractif de bienvenue. (Comme à la création d'un nouveau compte sur un site web)."
   ]
  },
  {
   "cell_type": "code",
   "execution_count": null,
   "metadata": {},
   "outputs": [],
   "source": [
    "# Formulaire d'inscription:\n"
   ]
  },
  {
   "cell_type": "markdown",
   "metadata": {},
   "source": [
    "Les listes ont beaucoup d'apllications et sont très utilisées en programmation. La gestion des valeurs par indices nécessite de faire un lien entre le **descripteur** et l'**indice** (*exemple: l'indice `1` correspond au `prénom`*)\n",
    "\n",
    "---\n",
    "### Analyse d'un dictionnaire\n",
    "Pour rappel, les valeurs sont rangées en face d'une **clé**. Il n'est plus question de partir de `0` et de prendre des valeurs entières automatiquement. Les clés sont donc déclarés manuellement. La règle est qu'une clé est un **texte** et ne peut exister qu'une seule fois dans un dictionnaire.\n",
    "\n",
    "Le dictionnaire se crée en encadrant les valeurs par **une paire d'accolades** `{ }` et en les séparant d'une virgule. Une valeur est attribuée à une clé après deux points `:`."
   ]
  },
  {
   "cell_type": "code",
   "execution_count": null,
   "metadata": {
    "scrolled": true
   },
   "outputs": [],
   "source": [
    "stock_fruit = {\"pomme\" : 12,\n",
    "               \"poire\" : 7,\n",
    "               \"kiwi\" : 9\n",
    "              }\n",
    "print(\"stock_fruit:\",stock_fruit)\n",
    "print(\"Nombre poires:\",stock_fruit[\"poire\"])\n",
    "\n",
    "stock_fruit[\"fraise\"] = 42\n",
    "print(\"-après ajout:\",stock_fruit)\n",
    "\n",
    "del stock_fruit[\"kiwi\"]\n",
    "print(\"-après suppression:\",stock_fruit)\n",
    "\n",
    "stock_fruit[\"poire\"] = 0\n",
    "print(\"-après modification:\",stock_fruit)"
   ]
  },
  {
   "cell_type": "markdown",
   "metadata": {},
   "source": [
    "**A votre tour, ajouter le fruit de votre choix et retirer la pomme et la poire du dictionnaire.**"
   ]
  },
  {
   "cell_type": "code",
   "execution_count": null,
   "metadata": {},
   "outputs": [],
   "source": [
    "# Retirer la pomme:\n"
   ]
  },
  {
   "cell_type": "code",
   "execution_count": null,
   "metadata": {},
   "outputs": [],
   "source": [
    "# Retirer la poire:\n"
   ]
  },
  {
   "cell_type": "code",
   "execution_count": null,
   "metadata": {},
   "outputs": [],
   "source": [
    "# Ajouter un fruit de votre choix:\n"
   ]
  },
  {
   "cell_type": "code",
   "execution_count": null,
   "metadata": {},
   "outputs": [],
   "source": [
    "print(stock_fruit)"
   ]
  },
  {
   "cell_type": "markdown",
   "metadata": {},
   "source": [
    "---\n",
    "### <center>Synthèse</center>\n",
    "|         |    `list`    |    `dict`      |\n",
    "|:---------:|:-------------:|:--------------:|\n",
    "|**Caractères englobants**| *Crochets* `[ ]`|*accolades* `{ }`|\n",
    "|**Repérage des valeurs**|*indices*|*clés*|\n",
    "|**Exemple donnant** `charles.martin`|`eleve[3]`|`eleve[\"login\"]`|"
   ]
  },
  {
   "cell_type": "code",
   "execution_count": null,
   "metadata": {},
   "outputs": [],
   "source": [
    "eleve = [\"Martin\",\n",
    "        \"Charles\",\n",
    "        \"01/03/1975\",\n",
    "        \"charles.martin\",\n",
    "        \"********\"]"
   ]
  },
  {
   "cell_type": "code",
   "execution_count": null,
   "metadata": {
    "scrolled": true
   },
   "outputs": [],
   "source": [
    "eleve = {\"nom\" : \"Martin\",\n",
    "        \"prenom\" : \"Charles\",\n",
    "        \"naissance\" : \"01/03/1975\",\n",
    "        \"login\" : \"charles.martin\",\n",
    "        \"passwd\" : \"********\"}"
   ]
  },
  {
   "cell_type": "markdown",
   "metadata": {},
   "source": [
    "---\n",
    "### <center>Pour aller plus loin (énumération)</center>"
   ]
  },
  {
   "cell_type": "markdown",
   "metadata": {},
   "source": [
    "Nous avons déjà abordé la notion d'ensemble **itérable** où des éléments sont énumérés. Rien de plus simple avec une liste dans la mesure où les valeurs sont rangées suivant des valeurs croissantes. L'énumération n'a qu'à suivre les indices:"
   ]
  },
  {
   "cell_type": "code",
   "execution_count": null,
   "metadata": {},
   "outputs": [],
   "source": [
    "semaine = [\"lundi\",\"mardi\",\"mercredi\",\"jeudi\",\"vendredi\",\"samedi\",\"dimanche\"]\n",
    "print(\"liste:\",semaine)\n",
    "\n",
    "\n",
    "for jour in semaine:\n",
    "    print(\"énumération:\",jour)"
   ]
  },
  {
   "cell_type": "markdown",
   "metadata": {},
   "source": [
    "- **Quelles instructions permettent do'obtenir la moyenne des notes de la liste?**"
   ]
  },
  {
   "cell_type": "code",
   "execution_count": null,
   "metadata": {},
   "outputs": [],
   "source": [
    "note = [15, 13.5, 14, 17, 9, 11.75]\n",
    "\n",
    "\n",
    "\n",
    "print(moyenne)"
   ]
  },
  {
   "cell_type": "markdown",
   "metadata": {},
   "source": [
    "---\n",
    "### <center>Pour aller plus loin (un tableau?)</center>"
   ]
  },
  {
   "cell_type": "markdown",
   "metadata": {},
   "source": [
    "Nous avons vu la liste comme **contenant** des éléments. Mais une liste étant malgré tout une variable, elle peut être un **élément contenu**. Ainsi les tableau tels que nous les concevons (lignes et colonnes) n'existenet pas en tant que tel dans Python mais il est possible de s'en approcher... avec une liste de listes:"
   ]
  },
  {
   "cell_type": "code",
   "execution_count": null,
   "metadata": {},
   "outputs": [],
   "source": [
    "l1 = [1,2,3]\n",
    "l2 = [4,5,6]\n",
    "l3 = [7,8,9]\n",
    "tab = [l1,l2,l3]\n",
    "print(\"liste de listes:\",tab)"
   ]
  },
  {
   "cell_type": "code",
   "execution_count": null,
   "metadata": {},
   "outputs": [],
   "source": [
    "# utilisation de l'énumération pour l'affichage:\n",
    "for ligne in tab:\n",
    "    print(ligne)"
   ]
  },
  {
   "cell_type": "markdown",
   "metadata": {},
   "source": [
    "- **A partir de la variable `tab`, comment accéder à la ligne du milieu pour obtenir: `[4,5,6]`?**"
   ]
  },
  {
   "cell_type": "code",
   "execution_count": null,
   "metadata": {},
   "outputs": [],
   "source": [
    "# accès à une ligne:\n"
   ]
  },
  {
   "cell_type": "markdown",
   "metadata": {},
   "source": [
    "- **A partir de la variable `tab`, comment accéder à la case du milieu pour obtenir: `5`?**"
   ]
  },
  {
   "cell_type": "code",
   "execution_count": null,
   "metadata": {},
   "outputs": [],
   "source": [
    "# accès à une case:\n"
   ]
  },
  {
   "cell_type": "markdown",
   "metadata": {},
   "source": [
    "- **A partir de la variable `tab`, comment accéder à la colonne du milieu pour obtenir: `[2,5,8]`?**"
   ]
  },
  {
   "cell_type": "code",
   "execution_count": null,
   "metadata": {
    "scrolled": true
   },
   "outputs": [],
   "source": [
    "# accès à une colonne:\n"
   ]
  },
  {
   "cell_type": "markdown",
   "metadata": {},
   "source": [
    "---\n",
    "### <center>Pour aller plus loin (base de données)</center>"
   ]
  },
  {
   "cell_type": "markdown",
   "metadata": {},
   "source": [
    "Nous avons vu qu'un dictionnaire permet de caractériser un objet ou une personne à l'aide de clés. Si plusieurs entités sont décrites de la même manière cela peut créer une base de données:\n"
   ]
  },
  {
   "cell_type": "code",
   "execution_count": null,
   "metadata": {},
   "outputs": [],
   "source": [
    "base_lycee = {}\n",
    "\n",
    "base_lycee[\"001\"] = {\"nom\":\"Turing\",\n",
    "                      \"prenom\":\"Alan\",\n",
    "                      \"statut\":\"Eleve\"}\n",
    "\n",
    "base_lycee[\"002\"] = {\"nom\":\"Boole\",\n",
    "                      \"prenom\":\"George\",\n",
    "                      \"statut\":\"Eleve\"}\n",
    "\n",
    "base_lycee[\"003\"] = {\"nom\":\"Engelbart\",\n",
    "                      \"prenom\":\"Douglas\",\n",
    "                      \"statut\":\"Eleve\"}\n",
    "\n",
    "base_lycee[\"004\"] = {\"nom\":\"Von Neumann\",\n",
    "                      \"prenom\":\"John\",\n",
    "                      \"statut\":\"Eleve\"}\n",
    "\n",
    "base_lycee[\"005\"] = {\"nom\":\"Hamilton\",\n",
    "                      \"prenom\":\"Margaret\",\n",
    "                      \"statut\":\"Professeur\"}"
   ]
  },
  {
   "cell_type": "markdown",
   "metadata": {},
   "source": [
    "- **Quelle(s) instruction(s) renvoie(nt) les noms de toutes les personnes de la base?** "
   ]
  },
  {
   "cell_type": "code",
   "execution_count": null,
   "metadata": {},
   "outputs": [],
   "source": []
  },
  {
   "cell_type": "markdown",
   "metadata": {},
   "source": [
    "- **Quelle(s) instruction(s) renvoie(nt) les noms et prénoms de tous les élèves de la base sous forme de liste?** "
   ]
  },
  {
   "cell_type": "code",
   "execution_count": null,
   "metadata": {},
   "outputs": [],
   "source": []
  }
 ],
 "metadata": {
  "kernelspec": {
   "display_name": "Python 3",
   "language": "python",
   "name": "python3"
  },
  "language_info": {
   "codemirror_mode": {
    "name": "ipython",
    "version": 3
   },
   "file_extension": ".py",
   "mimetype": "text/x-python",
   "name": "python",
   "nbconvert_exporter": "python",
   "pygments_lexer": "ipython3",
   "version": "3.8.6"
  }
 },
 "nbformat": 4,
 "nbformat_minor": 4
}
