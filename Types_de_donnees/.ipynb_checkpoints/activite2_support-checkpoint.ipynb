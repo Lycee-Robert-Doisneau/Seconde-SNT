{
 "cells": [
  {
   "cell_type": "markdown",
   "metadata": {},
   "source": [
    "## <div align = right> 2020-2021 </div>\n",
    "### <center> Seconde SNT - Les types de données </center>\n",
    "### <center> Activité 2: Codage des caractères</center>\n",
    "---"
   ]
  },
  {
   "cell_type": "markdown",
   "metadata": {},
   "source": [
    "Nous avons vu jusqu'à présent le codage binaire de valeurs numériques entières. Ce codage revenant au final à une suite d'opérations que l'ordinateur sait évaluer. En revanche lorsqu'il s'agit de caractères, les calculs mathématiques deviennent impossibles. Une soution émerge alors: **Une correspondance entre les caractères et des valeurs numériques entières**\n",
    "\n",
    "Seulement si chaque acteur propose sa correspondance dans son coin, de nombreux problèmes de comptaibilité, de codage ou de décodage pourraient émerger... D'où la première normalisation de codage, l'**ASCII** (**A**merican **S**tandard **C**ode **I**nformation **I**nterchange):\n",
    "\n",
    "|description de la table ASCII|\n",
    "|:---:|\n",
    "|[![ascii_table](https://upload.wikimedia.org/wikipedia/commons/thumb/d/dd/ASCII-Table.svg/738px-ASCII-Table.svg.png)](https://fr.wikipedia.org/wiki/American_Standard_Code_for_Information_Interchange)|\n",
    "|https://fr.wikipedia.org/wiki/American_Standard_Code_for_Information_Interchange|"
   ]
  },
  {
   "cell_type": "markdown",
   "metadata": {},
   "source": [
    "***Retrouver les textes codés derrière les valeurs hexadécimales suivantes:***\n",
    "- `41 53 43 49 49`"
   ]
  },
  {
   "cell_type": "code",
   "execution_count": 4,
   "metadata": {
    "scrolled": true
   },
   "outputs": [
    {
     "name": "stdout",
     "output_type": "stream",
     "text": [
      "proposition: essai\n"
     ]
    },
    {
     "data": {
      "text/plain": [
       "False"
      ]
     },
     "execution_count": 4,
     "metadata": {},
     "output_type": "execute_result"
    }
   ],
   "source": [
    "# Tester une proposition en cliquant sur 'Run' \n",
    "\n",
    "chr((0x41))+chr((0x53))+chr((0x43))+chr((0x49))+chr((0x49)) == input(\"proposition: \")"
   ]
  },
  {
   "cell_type": "markdown",
   "metadata": {},
   "source": [
    "***Retrouver les textes codés derrière les valeurs binaires suivantes:***\n",
    "- `0101 0011 0010 1110 0100 1110 0010 1110 0101 0100 0010 1110`"
   ]
  },
  {
   "cell_type": "code",
   "execution_count": 2,
   "metadata": {},
   "outputs": [
    {
     "name": "stdout",
     "output_type": "stream",
     "text": [
      "proposition: essai\n"
     ]
    },
    {
     "data": {
      "text/plain": [
       "False"
      ]
     },
     "execution_count": 2,
     "metadata": {},
     "output_type": "execute_result"
    }
   ],
   "source": [
    "# Tester une proposition en cliquant sur 'Run' \n",
    "\n",
    "chr((0b1010011))+chr((0b101110))+chr((0b1001110))+chr((0b101110))+chr((0b1010100))+chr((0b101110)) == input(\"proposition: \")"
   ]
  },
  {
   "cell_type": "markdown",
   "metadata": {},
   "source": [
    "***Retrouver les textes codés derrière les valeurs décimales suivantes:***\n",
    "- `99 104 114 40 57 48 41 61 90`"
   ]
  },
  {
   "cell_type": "code",
   "execution_count": 3,
   "metadata": {
    "scrolled": true
   },
   "outputs": [
    {
     "name": "stdout",
     "output_type": "stream",
     "text": [
      "proposition: essai\n"
     ]
    },
    {
     "data": {
      "text/plain": [
       "False"
      ]
     },
     "execution_count": 3,
     "metadata": {},
     "output_type": "execute_result"
    }
   ],
   "source": [
    "# Tester une proposition en cliquant sur 'Run' \n",
    "\n",
    "chr((99)) + chr((104)) + chr((114)) + chr((40)) + chr((57)) + chr((48)) + chr((41)) + chr((61)) +chr((90)) == input(\"proposition: \")"
   ]
  },
  {
   "cell_type": "markdown",
   "metadata": {},
   "source": [
    "---\n",
    "## <center> Pour aller plus loin </center>\n",
    "---"
   ]
  },
  {
   "cell_type": "markdown",
   "metadata": {},
   "source": [
    "Il est possible de retranscrire l'image binaire d'un fichier informatique à l'aide d'un éditeur hexadécimal. Ainsi il est possible d'observer les différences d'encodage entre les types de fichiers couramment rencontrés (.pdf .txt .bmp .odt ...)\n",
    "\n",
    "|        |Editeurs hexadécimaux |          | \n",
    "|:-------------:|:---:|:-------------:|\n",
    "|[![editeur en ligne 1](https://assets.webinfcdn.net/thumbnails/280x202/o/onlinehexeditor.com.png)](https://www.onlinehexeditor.com/)||[![editeur en ligne 2](https://assets.webinfcdn.net/thumbnails/280x202/h/hex-works.com.png)](https://hex-works.com/eng)| \n",
    "|[https://www.onlinehexeditor.com](https://www.onlinehexeditor.com/)||[http://hex-works.com/eng)](https://hex-works.com/eng)| \n",
    "\n"
   ]
  },
  {
   "cell_type": "markdown",
   "metadata": {},
   "source": [
    "***Créer plusieurs fichiers contenant tous visuellement le même texte (.txt .odt .html)***\n",
    "\n",
    "- Exemples de fichiers affichant \"hello world\"\n",
    "\n",
    "|   .html   |   .txt   |\n",
    "|:---------:|:--------:|\n",
    "|[![html_notepad](https://www.usna.edu/Users/cs/wcbrown/courses/F04SI204/resources/basichtml/HW2.gif)![html_explorer](https://www.usna.edu/Users/cs/wcbrown/courses/F04SI204/resources/basichtml/HW1.gif)](https://www.usna.edu/Users/cs/wcbrown/courses/F04SI204/resources/basichtml/Table.html)|![txt](https://s1.qwant.com/thumbr/0x0/2/d/e0f0792f83df9d768d9b47384fea66072a7ee80374975d4c80f5e2124492bd/notepad.png?u=https%3A%2F%2Fi2.wp.com%2Fs3.amazonaws.com%2Fproduction-wordpress-assets%2Fblog%2Fwp-content%2Fuploads%2F2017%2F07%2F09140104%2Fnotepad.png%3Fw%3D604%26ssl%3D1&q=0&b=1&p=0&a=1)\n",
    "|https://www.usna.edu/Users/cs/wcbrown/courses/F04SI204/resources/basichtml/Table.html|"
   ]
  },
  {
   "cell_type": "markdown",
   "metadata": {},
   "source": [
    "***En affichant les propriétés des fichiers créés (clic-droit > menu propriétés), retrouver leur taille en octets et compléter le tableau ci-dessous***\n",
    "\n",
    "| hello_world.txt | hello_world.odt | hello_world.html |\n",
    "|----------------:|----------------:|-----------------:|\n",
    "|               ko|               ko|                ko|"
   ]
  },
  {
   "cell_type": "markdown",
   "metadata": {},
   "source": [
    "***Analyser les fichiers créés avec l'éditeur hexadécimal***\n",
    "\n",
    "- En comparant les formats de fichiers texte `.txt` `.odt` et `.html`, expliquer rapidement les notions de **texte brut** et de **texte formaté**. Dans le même registre, expliquer alors la différence entre les logiciels d'**édition de texte** et de **traitement de texte**. (Rechercher quelques exemples).  "
   ]
  },
  {
   "cell_type": "markdown",
   "metadata": {},
   "source": [
    "---\n",
    "## <center> Pour aller plus loin </center>\n",
    "---"
   ]
  },
  {
   "cell_type": "markdown",
   "metadata": {},
   "source": [
    "Nous allons nous intéresser maintenant aux normes d'encodage des caractères de  l'ASCII à l'Unicode d'aujourd'hui."
   ]
  }
 ],
 "metadata": {
  "kernelspec": {
   "display_name": "Python 3",
   "language": "python",
   "name": "python3"
  },
  "language_info": {
   "codemirror_mode": {
    "name": "ipython",
    "version": 3
   },
   "file_extension": ".py",
   "mimetype": "text/x-python",
   "name": "python",
   "nbconvert_exporter": "python",
   "pygments_lexer": "ipython3",
   "version": "3.8.4"
  }
 },
 "nbformat": 4,
 "nbformat_minor": 4
}
