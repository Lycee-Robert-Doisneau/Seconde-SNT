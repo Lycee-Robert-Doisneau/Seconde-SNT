{
 "cells": [
  {
   "cell_type": "markdown",
   "metadata": {},
   "source": [
    "## <div align = right> 2020-2021 </div>\n",
    "### <center> Seconde SNT - **Les types de données** </center>\n",
    "### <center> Activité 2: Codage des caractères</center>\n",
    "---"
   ]
  },
  {
   "cell_type": "markdown",
   "metadata": {},
   "source": [
    "Nous avons vu jusqu'à présent le codage binaire de valeurs numériques entières. Ce codage revenant au final à une suite d'opérations que l'ordinateur sait évaluer. En revanche lorsqu'il s'agit de caractères, les calculs mathématiques deviennent impossibles. Une soution émerge alors: **Une correspondance entre les caractères et des valeurs numériques entières**\n",
    "\n",
    "Seulement si chaque acteur propose sa correspondance dans son coin, de nombreux problèmes de comptaibilité, de codage ou de décodage pourraient émerger... D'où la première normalisation de codage, l'**ASCII** (**A**merican **S**tandard **C**ode **I**nformation **I**nterchange):\n",
    "\n",
    "[![ascii_table](https://upload.wikimedia.org/wikipedia/commons/thumb/d/dd/ASCII-Table.svg/738px-ASCII-Table.svg.png)](https://fr.wikipedia.org/wiki/American_Standard_Code_for_Information_Interchange)"
   ]
  },
  {
   "cell_type": "markdown",
   "metadata": {},
   "source": [
    "***Retrouver les textes codés derrière les valeurs hexadécimales suivantes:***\n",
    "- `41 53 43 49 49`"
   ]
  },
  {
   "cell_type": "code",
   "execution_count": 2,
   "metadata": {
    "scrolled": false
   },
   "outputs": [
    {
     "name": "stdout",
     "output_type": "stream",
     "text": [
      "proposition: ASCII\n"
     ]
    },
    {
     "data": {
      "text/plain": [
       "True"
      ]
     },
     "execution_count": 2,
     "metadata": {},
     "output_type": "execute_result"
    }
   ],
   "source": [
    "chr((0x41))+chr((0x53))+chr((0x43))+chr((0x49))+chr((0x49)) == input(\"proposition: \")"
   ]
  },
  {
   "cell_type": "markdown",
   "metadata": {},
   "source": [
    "***Retrouver les textes codés derrière les valeurs binaires suivantes:***\n",
    "- `0101 0011 0010 1110 0100 1110 0010 1110 0101 0100 0010 1110`"
   ]
  },
  {
   "cell_type": "code",
   "execution_count": 4,
   "metadata": {},
   "outputs": [
    {
     "name": "stdout",
     "output_type": "stream",
     "text": [
      "proposition: S.N.T.\n"
     ]
    },
    {
     "data": {
      "text/plain": [
       "True"
      ]
     },
     "execution_count": 4,
     "metadata": {},
     "output_type": "execute_result"
    }
   ],
   "source": [
    "chr((0b1010011))+chr((0b101110))+chr((0b1001110))+chr((0b101110))+chr((0b1010100))+chr((0b101110)) == input(\"proposition: \")"
   ]
  },
  {
   "cell_type": "markdown",
   "metadata": {},
   "source": [
    "***Retrouver les textes codés derrière les valeurs décimales suivantes:***\n",
    "- `99 104 114 40 57 48 41 61 90`"
   ]
  },
  {
   "cell_type": "code",
   "execution_count": 8,
   "metadata": {},
   "outputs": [
    {
     "name": "stdout",
     "output_type": "stream",
     "text": [
      "proposition: chr(90)=Z\n"
     ]
    },
    {
     "data": {
      "text/plain": [
       "True"
      ]
     },
     "execution_count": 8,
     "metadata": {},
     "output_type": "execute_result"
    }
   ],
   "source": [
    "chr((99)) + chr((104)) + chr((114)) + chr((40)) + chr((57)) + chr((48)) + chr((41)) + chr((61)) +chr((90)) == input(\"proposition: \")"
   ]
  }
 ],
 "metadata": {
  "kernelspec": {
   "display_name": "Python 3",
   "language": "python",
   "name": "python3"
  },
  "language_info": {
   "codemirror_mode": {
    "name": "ipython",
    "version": 3
   },
   "file_extension": ".py",
   "mimetype": "text/x-python",
   "name": "python",
   "nbconvert_exporter": "python",
   "pygments_lexer": "ipython3",
   "version": "3.8.4"
  }
 },
 "nbformat": 4,
 "nbformat_minor": 4
}
