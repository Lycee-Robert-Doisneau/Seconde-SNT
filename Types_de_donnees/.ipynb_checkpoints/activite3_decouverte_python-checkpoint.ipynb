{
 "cells": [
  {
   "cell_type": "markdown",
   "metadata": {},
   "source": [
    "## <div align = right> 2020-2021 </div>\n",
    "### <center> Seconde SNT - Les types de données </center>\n",
    "### <center> Activité 3: Découverte de Python</center>\n",
    "---\n",
    "### Introduction\n",
    "Nous avons vu comment un ordinateur encodait différents types d'informations *humaines* comme les caractères ou les nombres. Une fois ces informations présentes dans un environnement numérique, elles peuvent être **sauvegardées**, **supprimées** et surtout **modifiées**. Nous allons aborder quelques possibilités offertes par la programmation en vue du traitement de ces données."
   ]
  },
  {
   "cell_type": "markdown",
   "metadata": {},
   "source": [
    "---\n",
    "### Le langage Python\n",
    "Pour demander à une machine de réaliser un traitement sur les informations, il faudrait parler son langage: le langage *machine* or nous ne disposons que du langage *humain*. Les langages de programmation comme **Python** permettent de faire l'intermédiaire entre l'*humain* et la *machine*. \n",
    "![Python](https://cdn-images-1.medium.com/fit/t/1600/480/1*KzSyurAkoy2xr1RecfChvA.png)"
   ]
  },
  {
   "cell_type": "markdown",
   "metadata": {},
   "source": [
    "***Remarques***  \n",
    "- Les langages (humains, machines ou de programmation) ne sont que des règles de syntaxe et un vocabulaire pour retranscrire des idées, des raisonnements ou décrire des opérations). ainsi un programmeur n'est ni plus ni moins qu'un traducteur.  \n",
    "- Si la programmation n'est qu'un exercice de traduction, l'organisation des instructions ou la mise en place d'un protocole relève de la conception et s'appelle l'**Algorithmie**. Il est par exemple possible de réaliser un algorithme en langage humain... sur papier!"
   ]
  },
  {
   "cell_type": "markdown",
   "metadata": {},
   "source": [
    "---\n",
    "### Les opérations\n",
    "Pour réaliser un traitement, un ordinateur a deux compétences essentielles. La première est d'**interpréter un calcul**. Ainsi il est possible de demander à un ordinteur d'évaluer le résultat d'une expression contenant une opération et deux valeurs."
   ]
  },
  {
   "cell_type": "markdown",
   "metadata": {},
   "source": [
    "#### 1. En analysant les résultats renvoyés à l'exécution, retrouver les opérations arithmétiques derrière chaque opérateur et compléter le tableau ci-dessous:"
   ]
  },
  {
   "cell_type": "code",
   "execution_count": null,
   "metadata": {},
   "outputs": [],
   "source": [
    "1984 + 1000"
   ]
  },
  {
   "cell_type": "code",
   "execution_count": null,
   "metadata": {},
   "outputs": [],
   "source": [
    "1984 // 1000"
   ]
  },
  {
   "cell_type": "code",
   "execution_count": null,
   "metadata": {},
   "outputs": [],
   "source": [
    "1984 - 1000"
   ]
  },
  {
   "cell_type": "code",
   "execution_count": null,
   "metadata": {},
   "outputs": [],
   "source": [
    "1984 % 1000"
   ]
  },
  {
   "cell_type": "code",
   "execution_count": null,
   "metadata": {},
   "outputs": [],
   "source": [
    "1984 * 1000"
   ]
  },
  {
   "cell_type": "code",
   "execution_count": null,
   "metadata": {},
   "outputs": [],
   "source": [
    "1984 / 1000"
   ]
  },
  {
   "cell_type": "markdown",
   "metadata": {},
   "source": [
    "|Opérations arithmétiques (résultat numérique entier ou décimal) |\n",
    "|:---------------------------------------------------------------|\n",
    "|`addition:`                                                     |\n",
    "|`soustraction:`                                                 |\n",
    "|`multiplication:`                                               |\n",
    "|`division:`                                                     |\n",
    "|`quotient de div. Euclidienne:`                                 |\n",
    "|`reste de div. Euclidienne:`                                    |"
   ]
  },
  {
   "cell_type": "markdown",
   "metadata": {},
   "source": [
    "#### 2. En analysant les résultats renvoyés à l'exécution, retrouver les opérations logiques derrière chaque opérateur et compléter le tableau ci-dessous:"
   ]
  },
  {
   "cell_type": "code",
   "execution_count": null,
   "metadata": {},
   "outputs": [],
   "source": [
    "1984 < 1000"
   ]
  },
  {
   "cell_type": "code",
   "execution_count": null,
   "metadata": {},
   "outputs": [],
   "source": [
    "1984 == 1000"
   ]
  },
  {
   "cell_type": "code",
   "execution_count": null,
   "metadata": {},
   "outputs": [],
   "source": [
    "1984 >= 1000"
   ]
  },
  {
   "cell_type": "code",
   "execution_count": null,
   "metadata": {},
   "outputs": [],
   "source": [
    "1984 > 1000"
   ]
  },
  {
   "cell_type": "code",
   "execution_count": null,
   "metadata": {},
   "outputs": [],
   "source": [
    "1984 != 1000"
   ]
  },
  {
   "cell_type": "code",
   "execution_count": null,
   "metadata": {},
   "outputs": [],
   "source": [
    "1984 <= 1000"
   ]
  },
  {
   "cell_type": "markdown",
   "metadata": {},
   "source": [
    "|Opérations arithmétiques (résultat binaire Vrai (`True`) ou Faux (`False`) |\n",
    "|:--------------------------------------------------------------------------|\n",
    "|`test d'égalité:`                                                          |\n",
    "|`test d'inégalité`                                                         |\n",
    "|`test d'infériorité:`                                                      |\n",
    "|`test d'infériorité ou d'éaglité:`                                         |\n",
    "|`test de supériorité:`                                                     |\n",
    "|`test de supériorité ou d'égalité:`                                        |"
   ]
  },
  {
   "cell_type": "markdown",
   "metadata": {},
   "source": [
    "Si tous ces calculs peuvent être évalués très rapidement par un ordinateur, il est souvent nécessaire d'en enchaîner plusieurs pour réaliser une tâche. Malheureusement un ordinateur oublie le résultat d'une expression dès qu'une nouvelle arrive. **Ainsi il apparait nécessaire de mémoriser ces résultats pour une réutilisation ultérieure**."
   ]
  },
  {
   "cell_type": "markdown",
   "metadata": {},
   "source": [
    "---\n",
    "### Les variables\n",
    "Pour réaliser un traitement, un ordinateur a deux compétences essentielles. La première est d'**interpréter un calcul** et la deuxième est de **mémoriser des valeurs**. Si la mémoire de l'ordinateur est organisée en secteurs repérés par des adresses binaires (gestion en langage *machine*), la mémoire est gérée à l'aide de **variables** en langage de programmation. \n",
    "\n",
    "Nous pouvons imaginer les variables comme des boîtes de rangement. Ces boîtes ont chacune un contenu (**valeur**) mais elles peuvent aussi être vides. En revanche comme elles se ressemblent toutes, elles se distinguent grâce à une étiquette (**nom**). La mémoire de l'ordinateur n'est donc qu'une grande étagère (ou un grand hangar si il faut beaucoup de place de stockage) où toutes les boîtes sont rangées. Pour éviter toute confusion, il ne peut y avoir deux boîtes avec la même étiquette dans le même hangar: Deux variables ne peuvent avoir le même nom.\n",
    "\n",
    "**Une variable est donc créée dès qu'on lui donne un `nom` et une `valeur`.**\n",
    "\n",
    "***Remarques***\n",
    "- Une `valeur` est stockée dans une variable à l'aide de l'opération d'**affectation** (symbole `=`)\n",
    "- Il est possible d'interroger la `valeur` d'une variable en l'appellant par son `nom` (elle doit donc exister avant d'être appelée)\n",
    "- Comme nous parlons de mémoire informatique, l'ordinateur mémorise différemment un nombre ou un texte. Une variable a donc automatiquement un `type` associé à la `valeur` mémorisée.\n",
    "- Un nom de variable ne contient pas d'espace ni d'accent. Seuls les les chiffres, les lettres et _ sont autorisés (en commençant toujours par une lettre)."
   ]
  },
  {
   "cell_type": "markdown",
   "metadata": {},
   "source": [
    "#### 3. En analysant les instructions ci-dessous, imaginer pour chaque blocs l'état de la mémoire en fin d'exécution:"
   ]
  },
  {
   "cell_type": "code",
   "execution_count": null,
   "metadata": {},
   "outputs": [],
   "source": [
    "ma_premiere_variable = \"un texte\"\n",
    "ma_deuxieme_variable = 1984\n",
    "ma_premiere_variable = \"un autre texte\""
   ]
  },
  {
   "cell_type": "markdown",
   "metadata": {},
   "source": [
    "| Nom de variable | Valeur | Type de données |\n",
    "|:---------------:|:------:|:---------------:|\n",
    "|`ma_premiere_variable`|   |                |\n",
    "|`ma_deuxieme_variable`|   |                |"
   ]
  },
  {
   "cell_type": "code",
   "execution_count": null,
   "metadata": {},
   "outputs": [],
   "source": [
    "ma_premiere_variable = \"un texte\"\n",
    "ma_deuxieme_variable = 1984\n",
    "ma_premiere_variable = ma_deuxieme_variable"
   ]
  },
  {
   "cell_type": "markdown",
   "metadata": {},
   "source": [
    "| Nom de variable | Valeur | Type de données |\n",
    "|:---------------:|:------:|:---------------:|\n",
    "|`ma_premiere_variable`|   |                 |\n",
    "|`ma_deuxieme_variable`|  |              |"
   ]
  },
  {
   "cell_type": "code",
   "execution_count": null,
   "metadata": {},
   "outputs": [],
   "source": [
    "ma_premiere_variable = \"un texte\"\n",
    "ma_deuxieme_variable = 1984\n",
    "ma_premiere_variable = ma_deuxieme_variable - 42"
   ]
  },
  {
   "cell_type": "markdown",
   "metadata": {},
   "source": [
    "| Nom de variable | Valeur | Type de données |\n",
    "|:---------------:|:------:|:---------------:|\n",
    "|`ma_premiere_variable`|   |          |\n",
    "|`ma_deuxieme_variable`|   |               |"
   ]
  },
  {
   "cell_type": "code",
   "execution_count": null,
   "metadata": {},
   "outputs": [],
   "source": [
    "ma_premiere_variable = \"un texte\"\n",
    "ma_deuxieme_variable = 1984\n",
    "ma_deuxieme_variable = ma_deuxieme_variable + ma_deuxieme_variable"
   ]
  },
  {
   "cell_type": "markdown",
   "metadata": {},
   "source": [
    "| Nom de variable | Valeur | Type de données |\n",
    "|:---------------:|:------:|:---------------:|\n",
    "|`ma_premiere_variable`|   |               |\n",
    "|`ma_deuxieme_variable`|   |             |"
   ]
  },
  {
   "cell_type": "code",
   "execution_count": null,
   "metadata": {},
   "outputs": [],
   "source": [
    "ma_premiere_variable = \"un texte\"\n",
    "ma_deuxieme_variable = 1984\n",
    "ma_premiere_variable == ma_deuxieme_variable"
   ]
  },
  {
   "cell_type": "markdown",
   "metadata": {},
   "source": [
    "| Nom de variable | Valeur | Type de données |\n",
    "|:---------------:|:------:|:---------------:|\n",
    "|`ma_premiere_variable`|   |            |\n",
    "|`ma_deuxieme_variable`|   |             |"
   ]
  },
  {
   "cell_type": "markdown",
   "metadata": {},
   "source": [
    "---\n",
    "### Les fonctions\n",
    "Lorsqu'une série d'instructions est organisée pour accomplir une tâche plus complexe qu'une simple opération, nous parlons de **fonction**. Cela revient à imaginer une boîte qui ne mémorise pas une valeur mais plutôt un protocole à suivre. Comme cela reste une boîte dans la mémoire, la fonction a aussi un `nom`. \n",
    "\n",
    "**Une fonction se distingue d'une variable à la présence de parenthèses collées à son `nom`. Celles-ci peuvent contenir les données sur lesquelles la fonction va agir. Ce sont les *arguments*** (comme en mathématiques où *f(x)* est une fonction nommée *f* qui agit sur la valeur de *x*).\n",
    "\n",
    "Nous avons appris à créer et manipuler des variables, nous nous contenterons dans un premier temps de manipuler des fonctions sans les créer.\n",
    "\n",
    "***Remarques***\n",
    "- Il est possible de déclencher une `fonction` en l'appellant par son `nom` (elle doit donc exister avant d'être appelée)\n",
    "- Nous n'avons pas encore vu comment définir nos propres fonctions mais il existe ds fonctions pré-installées dans le langage de programmation que l'on appelle les fonctions **natives**.\n",
    "- Si une fonction n'a pas besoin d'argument pour jouer son rôle, elle sera appelée avec des **parenthèses vides**. (Pour rappel, sans parenthèse, l'ordinateur s'attend à gérer des variables et non pas des fonctions.\n"
   ]
  },
  {
   "cell_type": "markdown",
   "metadata": {},
   "source": [
    "#### 4. En analysant les instructions ci-dessous, observer les intéractions avec l'ordinateur et repérer les fonctions natives utilisées ainsi que leur rôle."
   ]
  },
  {
   "cell_type": "code",
   "execution_count": null,
   "metadata": {},
   "outputs": [],
   "source": [
    "un_texte = \"Hello\"\n",
    "un_texte\n",
    "un_texte = \"World!\""
   ]
  },
  {
   "cell_type": "code",
   "execution_count": null,
   "metadata": {},
   "outputs": [],
   "source": [
    "un_texte = \"Hello\"\n",
    "print(un_texte)\n",
    "un_texte = \"World!\""
   ]
  },
  {
   "cell_type": "markdown",
   "metadata": {},
   "source": [
    "***Que fait la fonction `print()`?***  \n",
    "\n",
    "---"
   ]
  },
  {
   "cell_type": "code",
   "execution_count": null,
   "metadata": {},
   "outputs": [],
   "source": [
    "un_texte = \"Hello\"\n",
    "input(\"première saisie:\")\n",
    "un_texte = input(\"deuxième saisie:\")\n",
    "print(un_texte)"
   ]
  },
  {
   "cell_type": "markdown",
   "metadata": {},
   "source": [
    "***Que fait la fonction `input()`?***  \n",
    "\n",
    "---"
   ]
  },
  {
   "cell_type": "code",
   "execution_count": null,
   "metadata": {
    "scrolled": true
   },
   "outputs": [],
   "source": [
    "un_texte = \"1984\"\n",
    "un_nombre = 1984\n",
    "un_reel = 1984.0\n",
    "un_binaire = True\n",
    "print(type(un_binaire))\n",
    "print(type(un_texte))\n",
    "print(type(un_nombre))\n",
    "print(type(un_reel))"
   ]
  },
  {
   "cell_type": "markdown",
   "metadata": {},
   "source": [
    "***Que fait la fonction `type()`?***  \n",
    "\n",
    "---"
   ]
  },
  {
   "cell_type": "markdown",
   "metadata": {},
   "source": [
    "#### 5. En analysant les instructions ci-dessus, repérer les types de données utiliés par Python"
   ]
  },
  {
   "cell_type": "markdown",
   "metadata": {},
   "source": [
    "| Type de données | Type Python |\n",
    "|:---------------:|:---------------:|\n",
    "|`valeur numérique entière`|         |\n",
    "|`valeur numérique réelle`|         |\n",
    "|`valeur booléenne (Vrai / Faux)`|          |\n",
    "|`chaîne de caractères`|      |\n"
   ]
  },
  {
   "cell_type": "markdown",
   "metadata": {},
   "source": [
    "#### 6. Expliquer la ligne ci-dessous:"
   ]
  },
  {
   "cell_type": "code",
   "execution_count": 31,
   "metadata": {},
   "outputs": [
    {
     "name": "stdout",
     "output_type": "stream",
     "text": [
      "<class 'builtin_function_or_method'>\n"
     ]
    }
   ],
   "source": [
    "print(type(print))"
   ]
  },
  {
   "cell_type": "markdown",
   "metadata": {},
   "source": [
    "---\n",
    "### <center>  Pour aller plus loin</center>\n",
    "Comme il existe plusieurs type de données, quoi de plus logique que de trouver des fonctions de conversions?\n",
    "Voici un exemple de programme récapitulant ce qui a été vu précédemment, inspirez vous-en pour les exercices ci-dessous:"
   ]
  },
  {
   "cell_type": "code",
   "execution_count": null,
   "metadata": {},
   "outputs": [],
   "source": [
    "nombre_saisi = input(\"saisir un nombre\")\n",
    "somme = nombre_saisi + nombre_saisi\n",
    "\n",
    "print(somme)\n",
    "print(type(nombre_saisi))\n",
    "print(\"bizarre... somme de caractère ???\")\n",
    "\n",
    "nombre_converti = int(nombre_saisi)\n",
    "somme = nombre_converti + nombre_converti\n",
    "\n",
    "print(somme)\n",
    "print(type(nombre_converti))\n",
    "print(\"c'est mieux...\")"
   ]
  },
  {
   "cell_type": "code",
   "execution_count": null,
   "metadata": {},
   "outputs": [],
   "source": [
    "print(nombre_saisi + \" + \" + nombre_saisi + \" = \" + somme)"
   ]
  },
  {
   "cell_type": "code",
   "execution_count": null,
   "metadata": {},
   "outputs": [],
   "source": [
    "somme = str(somme)\n",
    "print(nombre_saisi + \" + \" + nombre_saisi + \" = \" + somme)"
   ]
  },
  {
   "cell_type": "markdown",
   "metadata": {},
   "source": [
    "---\n",
    "#### 7.  Ecrire un programme qui demande votre prénom puis votre âge et affiche un message personnalisé"
   ]
  },
  {
   "cell_type": "code",
   "execution_count": null,
   "metadata": {
    "scrolled": true
   },
   "outputs": [],
   "source": [
    "# EXEMPLE:\n",
    "# Saisir votre prénom: Georges\n",
    "# Saisir votre age: 84\n",
    "# Bonjour Georges, vous avez vraiment 84 ans?\n",
    "\n"
   ]
  },
  {
   "cell_type": "markdown",
   "metadata": {},
   "source": [
    "---\n",
    "#### 8.  Ecrire un programme qui demande un prénom puis une année de naissance et renvoie un message contenant le prénom et l'**âge** saisis."
   ]
  },
  {
   "cell_type": "code",
   "execution_count": null,
   "metadata": {},
   "outputs": [],
   "source": [
    "# EXEMPLE:\n",
    "# Saisir votre prénom: Georges\n",
    "# Saisir votre age: 1954\n",
    "# Bonjour Georges, vous avez vraiment 66 ans?\n",
    "\n"
   ]
  }
 ],
 "metadata": {
  "kernelspec": {
   "display_name": "Python 3",
   "language": "python",
   "name": "python3"
  },
  "language_info": {
   "codemirror_mode": {
    "name": "ipython",
    "version": 3
   },
   "file_extension": ".py",
   "mimetype": "text/x-python",
   "name": "python",
   "nbconvert_exporter": "python",
   "pygments_lexer": "ipython3",
   "version": "3.8.6"
  }
 },
 "nbformat": 4,
 "nbformat_minor": 4
}
