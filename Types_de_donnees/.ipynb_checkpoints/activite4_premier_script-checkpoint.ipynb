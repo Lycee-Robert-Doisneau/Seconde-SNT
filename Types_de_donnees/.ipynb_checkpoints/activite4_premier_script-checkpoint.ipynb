{
 "cells": [
  {
   "cell_type": "markdown",
   "metadata": {},
   "source": [
    "## <div align = right> 2020-2021 </div>\n",
    "### <center> Seconde SNT - Les types de données </center>\n",
    "### <center> Activité 4: Premier script (Cryptographie)</center>\n",
    "---\n",
    "### Introduction\n",
    "La **cryptographie** est une science visant à protéger le contenu d'un message afin de le réserver aux destinataires autorisés. les premières traces de cette pratique remontent à la naissance de l'écriture : l'Antiquité.\n",
    "\n",
    "Le chiffrement par décalage fixe est une méthode de cryptage très simple attribuée historiquement à l'empereur romain Jules César (rien ne prouve cependant qu'il en soit l'inventeur).\n",
    "\n",
    "|Article wikipédia sur le *Code César*|\n",
    "|:---:|\n",
    "|[![Article Wikipédia](https://upload.wikimedia.org/wikipedia/commons/thumb/b/b4/Bust_of_Julius_Caesar_from_History_of_the_World_%281902%29.png/220px-Bust_of_Julius_Caesar_from_History_of_the_World_%281902%29.png)](https://fr.wikipedia.org/wiki/Chiffrement_par_d%C3%A9calage)|\n",
    "|https://fr.wikipedia.org/wiki/Chiffrement_par_d%C3%A9calage|\n",
    "\n",
    "Il s'agit de décaler d'un ou de plusieurs rangs les lettres de l'alphabet pour produire le texte crypté. Le nombre de rangs est appelé ***clé***:\n",
    "\n",
    "| alphabet non crypté | a | b | c | d | e | f | ... | x | y | z | a | b | c | ...\n",
    "|:-------------------:|: :|: :|: :|: :|: :|: :|:   :|: :|: :|: :|: :|: :|: :|: :\n",
    "|clé = 1              | b | c | d | e | f | g | ... | y | z | a | b | c | d | ...\n",
    "|clé = 3              | d | e | f | g | h | i | ... | a | b | c | d | e | f | ...\n",
    "|clé = -2             | y | z | b | c | d | e | ... | v | w | x | y | z | a | ..."
   ]
  },
  {
   "cell_type": "markdown",
   "metadata": {},
   "source": [
    "***Retrouver le cryptage du mot 'cesar' avec une clé de +1:***"
   ]
  },
  {
   "cell_type": "code",
   "execution_count": 8,
   "metadata": {
    "scrolled": true
   },
   "outputs": [
    {
     "name": "stdout",
     "output_type": "stream",
     "text": [
      "proposition: essai\n"
     ]
    },
    {
     "data": {
      "text/plain": [
       "False"
      ]
     },
     "execution_count": 8,
     "metadata": {},
     "output_type": "execute_result"
    }
   ],
   "source": [
    "# Tester une proposition en cliquant sur 'Run' \n",
    "\n",
    "chr((0x64))+chr((0x66))+chr((0x74))+chr((0x62))+chr((0x73)) == input(\"proposition: \")"
   ]
  },
  {
   "cell_type": "markdown",
   "metadata": {},
   "source": [
    "***Retrouver le cryptage du mot 'cesar' avec une clé de +3:***"
   ]
  },
  {
   "cell_type": "code",
   "execution_count": 9,
   "metadata": {
    "scrolled": true
   },
   "outputs": [
    {
     "name": "stdout",
     "output_type": "stream",
     "text": [
      "proposition: essai\n"
     ]
    },
    {
     "data": {
      "text/plain": [
       "False"
      ]
     },
     "execution_count": 9,
     "metadata": {},
     "output_type": "execute_result"
    }
   ],
   "source": [
    "# Tester une proposition en cliquant sur 'Run' \n",
    "\n",
    "chr((0x66))+chr((0x68))+chr((0x76))+chr((0x64))+chr((0x75)) == input(\"proposition: \")"
   ]
  },
  {
   "cell_type": "markdown",
   "metadata": {},
   "source": [
    "***Retrouver le cryptage du mot 'cesar' avec une clé de -2:***"
   ]
  },
  {
   "cell_type": "code",
   "execution_count": 15,
   "metadata": {
    "scrolled": true
   },
   "outputs": [
    {
     "name": "stdout",
     "output_type": "stream",
     "text": [
      "proposition: essai\n"
     ]
    },
    {
     "data": {
      "text/plain": [
       "False"
      ]
     },
     "execution_count": 15,
     "metadata": {},
     "output_type": "execute_result"
    }
   ],
   "source": [
    "# Tester une proposition en cliquant sur 'Run' \n",
    "\n",
    "chr((0x61))+chr((0x63))+chr((0x71))+chr((0x79))+chr((0x70)) == input(\"proposition: \")"
   ]
  },
  {
   "cell_type": "markdown",
   "metadata": {},
   "source": [
    "Il est évident que les opérations de cryptage sur une lettre ou un mot sont relativement simples et rapides. En revanche le traitement d'un texte complet devient vite long sans pour autant devenir difficile. Il apparaît alors évident qu'une tâche assimilable à une suite d'opérations simples mais à répéter sera réalisé par un programme informatique."
   ]
  },
  {
   "cell_type": "markdown",
   "metadata": {},
   "source": [
    "***Retrouver l'ordre des opérations proposées pour crypter une lettre à l'aide d'une clé fournie***\n",
    "> - *convertir* une **lettre** en **nombre**\n",
    "*ajouter* la valeur de la **clé**\n",
    "*demander* **la lettre à crypter**\n",
    "*afficher* la **lttre cryptée**\n",
    "*convertir* un **nombre** en **lettre**\n",
    "*demander* la **clé** \n",
    "\n",
    "Le tableau suivant donne la traduction en langage `python` des opérations ci-dessus: \n",
    "\n",
    "|     |     |\n",
    "|:----|:----|\n",
    "| *convertir* une **lettre** en **nombre** | `nombre = ord(lettre_non_cryptee)` |\n",
    "| *ajouter* la valeur de la **clé** | `nombre = nombre + cle` |\n",
    "| *demander* **la lettre à crypter** | `lettre_non_cryptee = input(\"lettre à crypter: \")` |\n",
    "| *afficher* la **lttre cryptée** | `print(\"lettre cryptee:\",lettre_cryptee)` |\n",
    "| *convertir* un **nombre** en **lettre** | `lettre_cryptee = chr(nombre)` |\n",
    "| *demander* la **clé** | `cle = int(input(\"clé à utiliser: \"))` |"
   ]
  },
  {
   "cell_type": "code",
   "execution_count": 21,
   "metadata": {},
   "outputs": [],
   "source": [
    "# Replacer ci dessous les commandes en langage python et vérifier le fonctionnement en cliquant sur 'Run' \n",
    "# Exemple 'a' avec une clé +1 doit donner 'b'\n",
    "\n"
   ]
  },
  {
   "cell_type": "markdown",
   "metadata": {},
   "source": [
    "***Analyser le programme réalisé et détecter les défauts defonctionnement de cette version***"
   ]
  },
  {
   "cell_type": "markdown",
   "metadata": {},
   "source": [
    "---\n",
    "## <center> Pour aller plus loin (structure conditionnelle)</center>\n",
    "---"
   ]
  },
  {
   "cell_type": "markdown",
   "metadata": {},
   "source": [
    "Le programme actuel ne considère pas l'alphabet comme cyclique (redémarrage du a après le z). Le but des modifications à venir est de remédier à se problème (de manière très naïve dans un premier temps). \n",
    "\n",
    "***Analyser les valeurs numériques correspondantes à l'alphabet minuscule à l'aide des fonctions python*** `chr()` ***et*** `ord()`.\n",
    "\n",
    "Nous allons chercher à poser une condition de déclenchement pour un bloc d'instructions. Cette structure suit le raisonnement logique suivant:  \n",
    " **SI** `<condition>`, **ALORS** `<action>`. \n",
    " \n",
    "```python\n",
    "if <condition>:\n",
    "    # bloc d'instructions exécuté lorsque la condition est validée\n",
    "    instruction\n",
    "    instruction\n",
    "    ...\n",
    "else:\n",
    "    # bloc d'instructions exécuté lorsque la condition n'est PAS validée\n",
    "    instruction\n",
    "    instruction\n",
    "    ...\n",
    "```\n",
    "\n",
    " ***Remarques:***   \n",
    "> - La condition doit être binaire (réponse `True` ou `False` uniquement)  \n",
    "-L'action peut être composée de plusieurs instructions \n",
    "-Il faudra donc délimiter ces instructions avec un alignement particulier: **l'indentation**\n",
    "-Il est également possible de prévoir une réaction pour le cas contraire à la condition: **SINON** `<réaction>`\n",
    "\n",
    "***Retrouver la formulation qui permet de se demander si le cryptage de la lettre avec la clé fournie dépasse le 'z'. Quelle devrait être l'action à mener dans ce cas?***\n",
    "\n",
    "***Réaliser les modifications au script précédent***"
   ]
  },
  {
   "cell_type": "code",
   "execution_count": null,
   "metadata": {},
   "outputs": [],
   "source": [
    "# Exemple 'z' avec une clé +2 doit donner 'b'\n",
    "\n"
   ]
  },
  {
   "cell_type": "markdown",
   "metadata": {},
   "source": [
    "***Retrouver la formulation qui permet de se demander la lettre saisie est majuscule ou minuscule. Quelle devrait être l'action à mener dans ce cas?***\n",
    "\n",
    "***Réaliser les modifications au script précédent pour obtenir la table de valeurs suivante:***\n",
    "\n",
    "| 00  | 01| 02 |03 |04| 05| 06| 07| 08| 09| 10|11|12|13|14|15|16|17|18|19|20|21|22|23|24|25|\n",
    "|:---:|:---:|:---:|:---:|:---:|:---:|:---:|:---:|:---:|:---:|:---:|:---:|:---:|:---:|:---:|:---:|:---:|:---:|:---:|:---:|:---:|:---:|:---:|:---:|:---:|:---:|\n",
    "| a | b | c | d | e | f | g | h | i | j | k | l | m | n | o | p | q | r | s | t | u | v | w | x | y | z |\n",
    "| A | B | C | D | E | F | G | H | I | J | K | L | M | N | O | P | Q | R | S | T | U | V | W | X | Y | Z | \n",
    "\n",
    "***Remarque:*** Les structures conditionnelles peuvent s'imbriquer les unes dans les autres. "
   ]
  },
  {
   "cell_type": "markdown",
   "metadata": {},
   "source": [
    "---\n",
    "## <center> Pour aller plus loin (fonctions)</center>\n",
    "---"
   ]
  },
  {
   "cell_type": "markdown",
   "metadata": {},
   "source": [
    "Afin de réaliser une tâche informatique, nous organisons des instructions (opérations, mises en mémoire,...). Seulement nous ne souhaitons pas redonner les mêmes instructions plusieurs pour une tâche à répéter. **Il est alors possible de définir une fonction** en précisant une fois pour toute bloc d'instructions déclenchable à la demande.\n",
    "\n",
    "Les limites du blocs d'instructions se posent grâce à l'alignement des début de lignes: l'**indentation**. (En python, cela correspond à une tabulation ou 4 espaces)\n",
    "\n",
    "Comme pour les variables, **une fonction doit exister avant d'être sollicitée**. La définition de la fonction représente sa création (mot-clé `def`). Une fonction se reconnait à la présence de parenthèses après son nom (celles-ci contiennent les arguments et sont vides dans le cas d'une fonction sans argument).\n",
    "\n",
    "```python\n",
    "def nom_de_la_fonction(argument_1,argument_2,...):\n",
    "    # bloc d'instructions exécuté à l'appel de la fonction\n",
    "    instruction\n",
    "    instruction\n",
    "    ...\n",
    "    return ...\n",
    "        \n",
    "```  \n",
    "\n",
    "***Remarques:***   \n",
    "> - La commande `return` est optionnelle  \n",
    "-Si elle existe, elle doit être suivie d'une valeur évaluable dans la fonction  \n",
    "-Si elle existe, son exécution met fin à la fonction\n",
    "-Si elle existe, la fonction devient cette valeur lors de son appel\n",
    "\n",
    "***Réaliser une fonction `crypter_une_lettre()` en utilisant les instructions vues précédemment. Ce script doit produire le même résultat.***"
   ]
  },
  {
   "cell_type": "code",
   "execution_count": null,
   "metadata": {},
   "outputs": [],
   "source": [
    "def crypter_une_lettre():\n",
    "    # en alignant les instructions ici, cela marque le début de la définition de la fonction\n",
    "    lettre_non_cryptee = input(\"lettre à crypter: \")\n",
    "     \n",
    "    \n",
    "    \n",
    "    return lettre_cryptee\n",
    "\n",
    "# en alignant les instructions ici, cela marque la fin de la définition de la fonction\n",
    "print(crypter_une_lettre())"
   ]
  },
  {
   "cell_type": "markdown",
   "metadata": {},
   "source": [
    "---\n",
    "## <center> Pour aller plus loin (Boucles itératives)</center>\n",
    "---"
   ]
  },
  {
   "cell_type": "markdown",
   "metadata": {},
   "source": [
    "Nous avons appris à traiter une lettre mais il serait intéressant de voir comment traiter un mot dans sa globalité sachant qu'il n'est qu'une chaîne de caractères. Nous allons envisager une structure capable de répéter un bloc d'instructions sur chaque élément d'un ensemble. \n",
    "\n",
    "Ici, l'ensemble est le mot où chaque élément sera une lettre.\n",
    "\n",
    "```python\n",
    "for element in ensemble_iterable:\n",
    "    # bloc d'instructions exécuté sur chaque élément de l'ensemble\n",
    "    instruction\n",
    "    instruction\n",
    "    ...        \n",
    "```  \n",
    "\n",
    "***Remarques:***   \n",
    "> - L'ensemble doit exister ou être interprétable au moment de la première boucle \n",
    "-La variable des éléments peut apparaître pour la première fois et sa valeur initiale sera le premier élément\n",
    "-Chaque élément est traité selon le bloc d'instructions\n",
    "-L'ensemble doit être **itérable**, c'est à dire que l'on peut énumérer ses éléments (types `list`, `str` par exemple).\n",
    "\n",
    "***A partir de la fonction fournie*** `crypter_une_lettre(lettre,cle)`, ***proposer une fonction qui énumère les lettres d'un mot placé en argument, crypte chacune des lettres et reconstitue un mot_crypte par addition de caractère***"
   ]
  },
  {
   "cell_type": "code",
   "execution_count": null,
   "metadata": {},
   "outputs": [],
   "source": [
    "# completer la fonction crypter_mot()\n",
    "# Vérifier que crypter_un_mot('Cesar',1) donne 'Dftbs'\n",
    "# Vérifier que crypter_un_mot('Cesar',3) donne 'Fhvdu'\n",
    "# Vérifier que crypter_un_mot('Cesar',-2) donne 'Acqyp'\n",
    "\n",
    "def crypter_une_lettre(lettre,cle):\n",
    "    nombre = ord(lettre)\n",
    "    if nombre >= 65 and nombre <= 90:\n",
    "        return chr(((nombre - 65) + cle) % 26 + 65)\n",
    "    elif nombre >= 97 and nombre <= 122:\n",
    "        return chr(((nombre - 97) + cle) % 26 + 97)\n",
    "    else:\n",
    "        return lettre\n",
    "\n",
    "def crypter_un_mot(mot,cle):\n",
    "    mot_crypte = \"\"\n",
    "        \n",
    "    return mot_crypte\n",
    "\n",
    "print(crypter_un_mot('Cesar',1))"
   ]
  },
  {
   "cell_type": "markdown",
   "metadata": {},
   "source": [
    "Nous avons vu jusqu'à présent des algorithme où la clé était fournie comme donnée d'entrée. Mais dans l'hypothèse où la clé n'est pas connue, une méthode de décryptage peut s'envisager en testant toutes les clés possibles. Cette méthode est généralement appelée la **force brute**. Il s'agit de miser sur la puissance de calcul de l'ordinateur pour essayer toutes les méthodes variantes de cryptages sur une séquence cryptée. \n",
    "\n",
    "Ici, il n'existe que 25 versions cryptées pour une version non cryptée\n",
    "\n",
    "***Proposer un algorithme qui prend un mot en argument et affiche les 25 variantes de clé de ce mot***\n",
    "\n",
    "`Exemple pour force_brute('Pfojc')\n",
    "clé: 0 Pfojc\n",
    "clé: 1 Qgpkd\n",
    "clé: 2 Rhqle\n",
    "clé: 3 Sirmf\n",
    "clé: 4 Tjsng\n",
    "clé: 5 Uktoh\n",
    "clé: 6 Vlupi\n",
    "clé: 7 Wmvqj\n",
    "...`"
   ]
  },
  {
   "cell_type": "code",
   "execution_count": null,
   "metadata": {},
   "outputs": [],
   "source": [
    "\n",
    "    "
   ]
  }
 ],
 "metadata": {
  "kernelspec": {
   "display_name": "Python 3",
   "language": "python",
   "name": "python3"
  },
  "language_info": {
   "codemirror_mode": {
    "name": "ipython",
    "version": 3
   },
   "file_extension": ".py",
   "mimetype": "text/x-python",
   "name": "python",
   "nbconvert_exporter": "python",
   "pygments_lexer": "ipython3",
   "version": "3.8.4"
  }
 },
 "nbformat": 4,
 "nbformat_minor": 4
}
