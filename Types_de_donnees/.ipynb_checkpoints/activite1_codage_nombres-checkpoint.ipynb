{
 "cells": [
  {
   "cell_type": "markdown",
   "metadata": {},
   "source": [
    "## <div align = right> 2020-2021 </div>\n",
    "### <center> Seconde SNT - Les types de données </center>\n",
    "### <center> Activité 1: Codage des nombres</center>\n",
    "---\n",
    "### Introduction: Le système décimal (ou base 10)\n",
    "Les nombres tels que nous utilisons au quotidien suivent des règles artuculées autour de la valeur **10**, c'est le système **décimal**.\n",
    "\n",
    "Nous allons en dégager les règles autour d'observations diverses afin de définir comment créer un nouveau système.\n",
    "\n",
    "- **Lister les nombres autorisés. Combien y en a-t-il?**"
   ]
  },
  {
   "cell_type": "code",
   "execution_count": null,
   "metadata": {},
   "outputs": [],
   "source": []
  },
  {
   "cell_type": "markdown",
   "metadata": {},
   "source": [
    "- **Une fois arrivé au dernier chiffre autorisé (9), comment la valeur suivante (10) est obtenue?**"
   ]
  },
  {
   "cell_type": "code",
   "execution_count": null,
   "metadata": {},
   "outputs": [],
   "source": [
    "- règle n°1 (colonne des unités): "
   ]
  },
  {
   "cell_type": "code",
   "execution_count": null,
   "metadata": {},
   "outputs": [],
   "source": [
    "- règle n°2 (colonne des dizaines): "
   ]
  },
  {
   "cell_type": "markdown",
   "metadata": {},
   "source": [
    "- **Compléter ce que vaut chaque colonne du tableau ci-dessous:**\n",
    "|Millier|Centaine|Dizaine|Unité|\n",
    "|:-----:|:------:|:-----:|:----:|\n",
    "|   1   |  9    |   8   |   4  |"
   ]
  },
  {
   "cell_type": "code",
   "execution_count": null,
   "metadata": {},
   "outputs": [],
   "source": [
    "millier = \n",
    "centaine = \n",
    "dizaine = \n",
    "unité = "
   ]
  },
  {
   "cell_type": "markdown",
   "metadata": {},
   "source": [
    "- **Réécrire le nombre en utilisant les puissances de 10:**\n",
    "|Millier|Centaine|Dizaine|Unité|\n",
    "|:-----:|:------:|:-----:|:----:|\n",
    "|   1   |  9    |   8   |   4  |"
   ]
  },
  {
   "cell_type": "code",
   "execution_count": null,
   "metadata": {},
   "outputs": [],
   "source": [
    "1984 = ... x10^3 + ... x 10^2 + ... x 10^1 + ... x 10^0"
   ]
  },
  {
   "cell_type": "markdown",
   "metadata": {},
   "source": [
    "<center><b>Synthèse</b></center>\n",
    "\n",
    "Le système numérique en base **10**...\n",
    "- utilise **10** chiffres différents (0,1,2,3,4,5,6,7,8,9)\n",
    "- les chiffres pondèrent des puissances de **10** (1,10,100,1 000,...)\n",
    "- les puissances peuvent se ranger dans un tableau (de la plus forte à la plus petite)"
   ]
  },
  {
   "cell_type": "markdown",
   "metadata": {},
   "source": [
    "---\n",
    "### Le système binaire (ou base 2)\n",
    "La plupart des composants électroniques des ordinateurs fonctionnent en mode **binaire** c'est-à-dire qu'ils n'ont que deux états. Ces composants réagissent à la présence ou l'absence des phénomènes électriques ou magnétiques. Naturellement l'ordinateur a été conçu en voyant cette logique binaire \"contaminer\" toutes ses étapes d'évolution.\n",
    "\n",
    "Ainsi quand il a fallu mémoriser la notion de représentation des nombres ou apprendre les gérer nos alphabets, Sa mémoire aussi grande ou petite soit-elle n'arrivait à différencier que deux valeurs. Historiquement, les deux valeurs choisies sont **0** et **1**.\n",
    "\n",
    "C'est en gardant cette limitation en tête que le codage des nombres binaires peut représenter nos valeurs numériques (ou nos alphabets).\n",
    "\n",
    "- **en suivant les principes vus en base 10, énumérer les 16 premières écritures binaires ci-dessous:**"
   ]
  },
  {
   "cell_type": "code",
   "execution_count": null,
   "metadata": {},
   "outputs": [],
   "source": [
    "0:\n",
    "1:\n",
    "2:\n",
    "3:\n",
    "4:\n",
    "5:\n",
    "6:\n",
    "7:\n",
    "8:\n",
    "9:\n",
    "10:\n",
    "11:\n",
    "12:\n",
    "13:\n",
    "14:\n",
    "15:"
   ]
  },
  {
   "cell_type": "markdown",
   "metadata": {},
   "source": [
    "- **reprendre la synthèse de la base 10 et construire les règle de la base 2?**"
   ]
  },
  {
   "cell_type": "code",
   "execution_count": null,
   "metadata": {
    "scrolled": true
   },
   "outputs": [],
   "source": [
    "chiffres autorisés:\n",
    "premières puissances de 2:"
   ]
  }
 ],
 "metadata": {
  "kernelspec": {
   "display_name": "Python 3",
   "language": "python",
   "name": "python3"
  },
  "language_info": {
   "codemirror_mode": {
    "name": "ipython",
    "version": 3
   },
   "file_extension": ".py",
   "mimetype": "text/x-python",
   "name": "python",
   "nbconvert_exporter": "python",
   "pygments_lexer": "ipython3",
   "version": "3.8.6"
  }
 },
 "nbformat": 4,
 "nbformat_minor": 4
}
