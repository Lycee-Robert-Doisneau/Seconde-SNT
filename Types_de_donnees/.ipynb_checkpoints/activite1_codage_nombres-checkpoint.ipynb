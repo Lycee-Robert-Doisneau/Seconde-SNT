{
 "cells": [
  {
   "cell_type": "markdown",
   "metadata": {},
   "source": [
    "## <div align = right> 2020-2021 </div>\n",
    "### <center> Seconde SNT - Les types de données </center>\n",
    "### <center> Activité 1: Codage des nombres</center>\n",
    "---\n",
    "### Introduction: Le système décimal (ou base 10)\n",
    "Les nombres tels que nous utilisons au quotidien suivent des règles artuculées autour de la valeur **10**, c'est le système **décimal**.\n",
    "\n",
    "Nous allons en dégager les règles autour d'observations diverses afin de définir comment créer un nouveau système.\n",
    "\n",
    "- **Lister les nombres autorisés. Combien y en a-t-il?**"
   ]
  },
  {
   "cell_type": "code",
   "execution_count": null,
   "metadata": {},
   "outputs": [],
   "source": []
  },
  {
   "cell_type": "markdown",
   "metadata": {},
   "source": [
    "- **Une fois arrivé au dernier chiffre autorisé (9), comment la valeur suivante (10) est obtenue?**"
   ]
  },
  {
   "cell_type": "code",
   "execution_count": null,
   "metadata": {},
   "outputs": [],
   "source": [
    "- règle n°1 (colonne des unités): "
   ]
  },
  {
   "cell_type": "code",
   "execution_count": null,
   "metadata": {},
   "outputs": [],
   "source": [
    "- règle n°2 (colonne des dizaines): "
   ]
  },
  {
   "cell_type": "markdown",
   "metadata": {},
   "source": [
    "- **Compléter ce que vaut chaque colonne du tableau ci-dessous:**\n",
    "|Millier|Centaine|Dizaine|Unité|\n",
    "|:-----:|:------:|:-----:|:----:|\n",
    "|   1   |  9    |   8   |   4  |"
   ]
  },
  {
   "cell_type": "code",
   "execution_count": null,
   "metadata": {},
   "outputs": [],
   "source": [
    "millier = \n",
    "centaine = \n",
    "dizaine = \n",
    "unité = "
   ]
  },
  {
   "cell_type": "markdown",
   "metadata": {},
   "source": [
    "- **Réécrire le nombre en utilisant les puissances de 10:**\n",
    "|Millier|Centaine|Dizaine|Unité|\n",
    "|:-----:|:------:|:-----:|:----:|\n",
    "|   1   |  9    |   8   |   4  |"
   ]
  },
  {
   "cell_type": "code",
   "execution_count": null,
   "metadata": {},
   "outputs": [],
   "source": [
    "1984 = ... x10^3 + ... x 10^2 + ... x 10^1 + ... x 10^0"
   ]
  },
  {
   "cell_type": "markdown",
   "metadata": {},
   "source": [
    "<center><b>Synthèse</b></center>\n",
    "\n",
    "Le système numérique en base **10**...\n",
    "- utilise **10** chiffres différents (0,1,2,3,4,5,6,7,8,9)\n",
    "- les chiffres pondèrent des puissances de **10** (1,10,100,1 000,...)\n",
    "- les puissances peuvent se ranger dans un tableau (de la plus forte à la plus petite)"
   ]
  },
  {
   "cell_type": "markdown",
   "metadata": {},
   "source": [
    "---\n",
    "### Le système binaire (ou base 2)\n",
    "La plupart des composants électroniques des ordinateurs fonctionnent en mode **binaire** c'est-à-dire qu'ils n'ont que deux états. Ces composants réagissent à la présence ou l'absence des phénomènes électriques ou magnétiques. Naturellement l'ordinateur a été conçu en voyant cette logique binaire \"contaminer\" toutes ses étapes d'évolution.\n",
    "\n",
    "Ainsi quand il a fallu mémoriser la notion de représentation des nombres ou apprendre les gérer nos alphabets, Sa mémoire aussi grande ou petite soit-elle n'arrivait à différencier que deux valeurs. Historiquement, les deux valeurs choisies sont **0** et **1**.\n",
    "\n",
    "C'est en gardant cette limitation en tête que le codage des nombres binaires peut représenter nos valeurs numériques (ou nos alphabets).\n",
    "\n",
    "- **en suivant les principes vus en base 10, énumérer les 16 premières écritures binaires ci-dessous:**"
   ]
  },
  {
   "cell_type": "code",
   "execution_count": null,
   "metadata": {},
   "outputs": [],
   "source": [
    "0:\n",
    "1:\n",
    "2:\n",
    "3:\n",
    "4:\n",
    "5:\n",
    "6:\n",
    "7:\n",
    "8:\n",
    "9:\n",
    "10:\n",
    "11:\n",
    "12:\n",
    "13:\n",
    "14:\n",
    "15:"
   ]
  },
  {
   "cell_type": "markdown",
   "metadata": {},
   "source": [
    "- **reprendre la synthèse de la base 10 et construire les règle de la base 2?**"
   ]
  },
  {
   "cell_type": "code",
   "execution_count": null,
   "metadata": {
    "scrolled": true
   },
   "outputs": [],
   "source": [
    "chiffres autorisés:\n",
    "premières puissances de 2:"
   ]
  },
  {
   "cell_type": "markdown",
   "metadata": {},
   "source": [
    "<center><b>Synthèse</b></center>\n",
    "\n",
    "Le système numérique en base **2**...\n",
    "- utilise **2** chiffres différents (0,1)\n",
    "- les chiffres pondèrent des puissances de **2** (1,2,4,8,16,32,64,128,256,512,1024,...)\n",
    "- les puissances peuvent se ranger dans un tableau (de la plus forte à la plus petite)"
   ]
  },
  {
   "cell_type": "markdown",
   "metadata": {},
   "source": [
    "---\n",
    "### Conversions Binaire > Décimale\n",
    "En positionnant un nombre binaire dans le tableau des puissances, nous nous apercevons que celles-ci sont multipliées soit par 1, soit par 0. \n",
    "\n",
    "La conversion revient alors à un raisonnement très simple:\n",
    "- Si il y a un 1, la puissance compte dans la valeur décimale\n",
    "- Si il y a un 0, la puissance ne compte pas dans la valeur décimale\n",
    "\n",
    "*Exemple:*\n",
    "\n",
    "| 128 |  64 |  32 |  16 |  8  |  4  |  2  |  1  |\n",
    "|-----|-----|-----|-----|-----|-----|-----|-----|\n",
    "|  0  |  0  |  1  |  0  |  1  |  0  |  1  |  0  |"
   ]
  },
  {
   "cell_type": "markdown",
   "metadata": {},
   "source": [
    "Il y a un 1 en face de 32, 8, et 2\n",
    "Il y a un 0 en face de 128, 64, 16, 4 et 1\n",
    "\n",
    "La valeur décimale derrière le codage binaire `0010 1010` est `32 + 8 + 2 = 42`\n",
    "\n",
    "- **Retrouver les valeurs décimales derrières les écritures binaires suivantes:** "
   ]
  },
  {
   "cell_type": "code",
   "execution_count": null,
   "metadata": {
    "scrolled": false
   },
   "outputs": [],
   "source": [
    "#1. 0101 =\n",
    "print(bin(int(input(\"Ex.1 Proposition pour 0101: \"))) == '0b101')\n",
    "\n",
    "#2. 1100 = \n",
    "print(bin(int(input(\"Ex.2 Proposition pour 1100: \"))) == '0b1100')\n",
    "\n",
    "#3. 0001 1001 = \n",
    "print(bin(int(input(\"Ex.3 Proposition pour 0001 1001: \"))) == '0b11001')\n",
    "\n",
    "#4. 0110 1011 = \n",
    "print(bin(int(input(\"Ex.4 Proposition pour 0110 1011: \"))) == '0b1101011')\n",
    "\n",
    "#5. 1111 1110 =\n",
    "print(bin(int(input(\"Ex.5 Proposition pour 1111 1110: \"))) == '0b11111110')\n",
    "\n",
    "#6. 10 1101 0001 =\n",
    "print(bin(int(input(\"Ex.6 Proposition pour 10 1101 0001: \"))) == '0b1011010001')"
   ]
  },
  {
   "cell_type": "markdown",
   "metadata": {},
   "source": [
    "---\n",
    "### Conversions Décimale > Binaire\n",
    "Nous avons deux manières d'aborder cette conversion. Une, très mécanique, où un protocole se répète jusqu'à obtention du résultat (les **divisions successives par 2**) et une, plus intuitive, où le résultat se construit par approches successives (la **soustraction de puissances de 2**).\n",
    "\n",
    "#### 1. La division sucessive par 2\n",
    "\n",
    "Il s'agit de réaliser des divisions euclidiennes par 2 sur la valeur puis sur chaque quotient des divisions jusqu'à la division donnant un quotient nul. Les restes successifs se placent de droite à gauche pour donner le codage binaire:\n",
    "\n",
    "*Exemple:*\n",
    "- `42 / 2 --> q = 21, r = 0                                        . . . . . 0`\n",
    "- `21 / 2 --> q = 10, r = 1                                        . . . . 1 0`\n",
    "- `10 / 2 --> q = 5, r = 0                                         . . . 0 1 0`\n",
    "- `5 / 2 --> q = 2, r = 1                                          . . 1 0 1 0`\n",
    "- `2 / 2 --> q = 1, r = 0                                          . 0 1 0 1 0`\n",
    "- `1 / 2 --> q = 0, r = 1                                          1 0 1 0 1 0`\n",
    "\n",
    "A q = 0, fin de la conversion: `42` est `0010 1010`\n",
    "\n",
    "\n",
    "#### 2. La soustraction de puissances 2\n",
    "\n",
    "Il faudra garder à l'esprit qu'une valeur décimale peut être égale à une somme de puissance de 2 (où chaque puissance ne peut être utilisée qu'une fois). En prenant les puissances de manière décroissante, il faudra reconstituer cette somme en regardant si la puissance \"rentre\" dans la valeur ou le reste à construire:\n",
    "\n",
    "*Exemple:*\n",
    "Sur 8 bits, \n",
    "- `128 dans 42 ? ne rentre pas              -->                     0 . . .  . . . .` \n",
    "- `64 dans 42 ? ne rentre pas               -->                     0 0 . .  . . . .` \n",
    "- `32 dans 42 ? rentre !!! il nous reste 10 -->                     0 0 1 .  . . . .` \n",
    "- `16 dans 10 ? ne rentre pas               -->                     0 0 1 0  . . . .`\n",
    "- `8 dans 10 ? rentre !!! il nous reste 2   -->                     0 0 1 0  1 . . .` \n",
    "- `4 dans 2 ? ne rentre pas                 -->                     0 0 1 0  1 0 . .` \n",
    "- `2 dans 2 ? rentre !!! il nous reste 0    -->                     0 0 1 0  1 0 1 .`\n",
    "- `1 dans 0 ? ne rentre pas                 -->                     0 0 1 0  1 0 1 0`\n",
    "\n",
    "Une fois le reste à 0, la somme est obtenue en plaçant un 1 lorsque la puissance constitue la somme et un 0 dans le cas contraire\n",
    "\n",
    "Fin de la conversion: `42` est `0010 1010`.\n",
    "\n",
    "- **Retrouver les valeurs binaires derrières les écritures décimales suivantes:** "
   ]
  },
  {
   "cell_type": "code",
   "execution_count": null,
   "metadata": {},
   "outputs": [],
   "source": [
    "#1. 7 =\n",
    "print(bin(int('0b'+str(input(\"Ex.1 Proposition pour 7: \")),2)) == bin(7))\n",
    "\n",
    "#2. 18 =\n",
    "print(bin(int('0b'+str(input(\"Ex.2 Proposition pour 7: \")),2)) == bin(18))\n",
    "\n",
    "#3. 31 =\n",
    "print(bin(int('0b'+str(input(\"Ex.3 Proposition pour 7: \")),2)) == bin(31))\n",
    "\n",
    "#4. 66 =\n",
    "print(bin(int('0b'+str(input(\"Ex.1 Proposition pour 7: \")),2)) == bin(66))\n",
    "\n",
    "#5. 167 =\n",
    "print(bin(int('0b'+str(input(\"Ex.1 Proposition pour 7: \")),2)) == bin(167))\n",
    "\n",
    "#6. 421 =\n",
    "print(bin(int('0b'+str(input(\"Ex.1 Proposition pour 7: \")),2)) == bin(421))"
   ]
  },
  {
   "cell_type": "markdown",
   "metadata": {},
   "source": [
    "---\n",
    "### Pour aller plus loin\n",
    "#### 1. Comparaisons de nombres:\n",
    "Les puissances les plus fortes étant sur la gauche du nombre, imaginer comment un comparateur de nombres binaires analyse les valeurs données sans les convertir en décimal:\n",
    "\n",
    "`0101 1100 < ou > 1001 0110`\n",
    "`0100 1101 < ou > 0100 1110`\n",
    "`1010 1101 < ou > 1101 1110`\n",
    "\n",
    "#### 2. Multiplication par 2:\n",
    "Les représentations binaires permettent ces opérations très rapidement: si `5 = 101` alors `1010`.\n",
    "**Essayer d'analyser quelques exemples pour dégager une règle établissant le résultat binaire d'un nombre binaire multiplié par 2**.\n",
    "\n",
    "#### 3. Test de parité:\n",
    "**Etablir une méthode simple pour détecter si un nombre est pair ou impair à partir de sa représentation binaire.**\n",
    "\n",
    "#### 4. Division par 2:\n",
    "**A partir des deux exercices précedents, imaginer un protocole de traitement de nombre binaire permettant de diviser un nombre par 2 si il est pair.**\n"
   ]
  }
 ],
 "metadata": {
  "kernelspec": {
   "display_name": "Python 3",
   "language": "python",
   "name": "python3"
  },
  "language_info": {
   "codemirror_mode": {
    "name": "ipython",
    "version": 3
   },
   "file_extension": ".py",
   "mimetype": "text/x-python",
   "name": "python",
   "nbconvert_exporter": "python",
   "pygments_lexer": "ipython3",
   "version": "3.8.6"
  }
 },
 "nbformat": 4,
 "nbformat_minor": 4
}
