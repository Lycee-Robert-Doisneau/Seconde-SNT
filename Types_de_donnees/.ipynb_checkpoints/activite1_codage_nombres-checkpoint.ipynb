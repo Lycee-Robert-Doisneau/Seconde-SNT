{
 "cells": [
  {
   "cell_type": "markdown",
   "metadata": {},
   "source": [
    "## <div align = right> 2020-2021 </div>\n",
    "### <center> Seconde SNT - Les types de données </center>\n",
    "### <center> Activité 1: Codage des nombres</center>\n",
    "---\n",
    "### Introduction: Le système décimal (ou base 10)\n",
    "Les nombres tels que nous utilisons au quotidien suivent des règles artuculées autour de la valeur **10**, c'est le système **décimal**.\n",
    "\n",
    "Nous allons en dégager les règles autour d'observations diverses afin de définir comment créer un nouveau système.\n",
    "\n",
    "- **Lister les nombres autorisés. Combien y en a-t-il?**"
   ]
  },
  {
   "cell_type": "code",
   "execution_count": null,
   "metadata": {},
   "outputs": [],
   "source": []
  },
  {
   "cell_type": "markdown",
   "metadata": {},
   "source": [
    "- **Une fois arrivé au dernier chiffre autorisé (9), comment la valeur suivante (10) est obtenue?**"
   ]
  },
  {
   "cell_type": "code",
   "execution_count": null,
   "metadata": {},
   "outputs": [],
   "source": [
    "- règle n°1 (colonne des unités): "
   ]
  },
  {
   "cell_type": "code",
   "execution_count": null,
   "metadata": {},
   "outputs": [],
   "source": [
    "- règle n°2 (colonne des dizaines): "
   ]
  },
  {
   "cell_type": "markdown",
   "metadata": {},
   "source": [
    "- **Compléter ce que vaut chaque colonne du tableau ci-dessous:**\n",
    "|Millier|Centaine|Dizaine|Unité|\n",
    "|:-----:|:------:|:-----:|:----:|\n",
    "|   1   |  9    |   8   |   4  |"
   ]
  },
  {
   "cell_type": "code",
   "execution_count": null,
   "metadata": {},
   "outputs": [],
   "source": [
    "millier = \n",
    "centaine = \n",
    "dizaine = \n",
    "unité = "
   ]
  },
  {
   "cell_type": "markdown",
   "metadata": {},
   "source": [
    "- **Réécrire le nombre en utilisant les puissances de 10:**\n",
    "|Millier|Centaine|Dizaine|Unité|\n",
    "|:-----:|:------:|:-----:|:----:|\n",
    "|   1   |  9    |   8   |   4  |"
   ]
  },
  {
   "cell_type": "code",
   "execution_count": null,
   "metadata": {},
   "outputs": [],
   "source": [
    "1984 = ... x10^3 + ... x 10^2 + ... x 10^1 + ... x 10^0"
   ]
  },
  {
   "cell_type": "markdown",
   "metadata": {},
   "source": [
    "<center><b>Synthèse</b></center>\n",
    "\n",
    "Le système numérique en base **10**...\n",
    "- utilise **10** chiffres différents (0,1,2,3,4,5,6,7,8,9)\n",
    "- les chiffres pondèrent des puissances de **10** (1,10,100,1 000,...)\n",
    "- les puissances peuvent se ranger dans un tableau (de la plus forte à la plus petite)"
   ]
  },
  {
   "cell_type": "markdown",
   "metadata": {},
   "source": [
    "---\n",
    "### Le système binaire (ou base 2)\n",
    "La plupart des composants électroniques des ordinateurs fonctionnent en mode **binaire** c'est-à-dire qu'ils n'ont que deux états. Ces composants réagissent à la présence ou l'absence des phénomènes électriques ou magnétiques. Naturellement l'ordinateur a été conçu en voyant cette logique binaire \"contaminer\" toutes ses étapes d'évolution.\n",
    "\n",
    "Ainsi quand il a fallu mémoriser la notion de représentation des nombres ou apprendre les gérer nos alphabets, Sa mémoire aussi grande ou petite soit-elle n'arrivait à différencier que deux valeurs. Historiquement, les deux valeurs choisies sont **0** et **1**.\n",
    "\n",
    "C'est en gardant cette limitation en tête que le codage des nombres binaires peut représenter nos valeurs numériques (ou nos alphabets).\n",
    "\n",
    "- **en suivant les principes vus en base 10, énumérer les 16 premières écritures binaires ci-dessous:**"
   ]
  },
  {
   "cell_type": "code",
   "execution_count": null,
   "metadata": {},
   "outputs": [],
   "source": [
    "0:\n",
    "1:\n",
    "2:\n",
    "3:\n",
    "4:\n",
    "5:\n",
    "6:\n",
    "7:\n",
    "8:\n",
    "9:\n",
    "10:\n",
    "11:\n",
    "12:\n",
    "13:\n",
    "14:\n",
    "15:"
   ]
  },
  {
   "cell_type": "markdown",
   "metadata": {},
   "source": [
    "- **reprendre la synthèse de la base 10 et construire les règle de la base 2?**"
   ]
  },
  {
   "cell_type": "code",
   "execution_count": null,
   "metadata": {
    "scrolled": true
   },
   "outputs": [],
   "source": [
    "chiffres autorisés:\n",
    "premières puissances de 2:"
   ]
  },
  {
   "cell_type": "markdown",
   "metadata": {},
   "source": [
    "<center><b>Synthèse</b></center>\n",
    "\n",
    "Le système numérique en base **2**...\n",
    "- utilise **2** chiffres différents (0,1)\n",
    "- les chiffres pondèrent des puissances de **2** (1,2,4,8,16,32,64,128,256,512,1024,...)\n",
    "- les puissances peuvent se ranger dans un tableau (de la plus forte à la plus petite)"
   ]
  },
  {
   "cell_type": "markdown",
   "metadata": {},
   "source": [
    "---\n",
    "### Conversions Binaire > Décimale\n",
    "En positionnant un nombre binaire dans le tableau des puissances, nous nous apercevons que celles-ci sont multipliées soit par 1, soit par 0. \n",
    "\n",
    "La conversion revient alors à un raisonnement très simple:\n",
    "- Si il y a un 1, la puissance compte dans la valeur décimale\n",
    "- Si il y a un 0, la puissance ne compte pas dans la valeur décimale\n",
    "\n",
    "*Exemple:*\n",
    "\n",
    "| 128 |  64 |  32 |  16 |  8  |  4  |  2  |  1  |\n",
    "|-----|-----|-----|-----|-----|-----|-----|-----|\n",
    "|  0  |  0  |  1  |  0  |  1  |  0  |  1  |  0  |"
   ]
  },
  {
   "cell_type": "markdown",
   "metadata": {},
   "source": [
    "Il y a un 1 en face de 32, 8, et 2\n",
    "Il y a un 0 en face de 128, 64, 16, 4 et 1\n",
    "\n",
    "La valeur décimale derrière le codage binaire `0010 1010` est `32 + 8 + 2 = 42`\n",
    "\n",
    "- **Retrouver les valeurs décimales derrières les écritures binaires suivantes:** "
   ]
  },
  {
   "cell_type": "code",
   "execution_count": 5,
   "metadata": {
    "scrolled": true
   },
   "outputs": [
    {
     "name": "stdout",
     "output_type": "stream",
     "text": [
      "Ex.1 Proposition pour 0101: 5\n",
      "True\n",
      "Ex.2 Proposition pour 1100: 12\n",
      "True\n",
      "Ex.3 Proposition pour 0001 1001: 25\n",
      "True\n",
      "Ex.4 Proposition pour 0110 1011: 107\n",
      "True\n",
      "Ex.5 Proposition pour 1111 1110: 254\n",
      "True\n",
      "Ex.6 Proposition pour 10 1101 0001: 721\n",
      "True\n"
     ]
    }
   ],
   "source": [
    "#1. 0101 =\n",
    "print(bin(int(input(\"Ex.1 Proposition pour 0101: \"))) == '0b101')\n",
    "\n",
    "#2. 1100 = \n",
    "print(bin(int(input(\"Ex.2 Proposition pour 1100: \"))) == '0b1100')\n",
    "\n",
    "#3. 0001 1001 = \n",
    "print(bin(int(input(\"Ex.3 Proposition pour 0001 1001: \"))) == '0b11001')\n",
    "\n",
    "#4. 0110 1011 = \n",
    "print(bin(int(input(\"Ex.4 Proposition pour 0110 1011: \"))) == '0b1101011')\n",
    "\n",
    "#5. 1111 1110 =\n",
    "print(bin(int(input(\"Ex.5 Proposition pour 1111 1110: \"))) == '0b11111110')\n",
    "\n",
    "#6. 10 1101 0001 =\n",
    "print(bin(int(input(\"Ex.6 Proposition pour 10 1101 0001: \"))) == '0b1011010001')"
   ]
  }
 ],
 "metadata": {
  "kernelspec": {
   "display_name": "Python 3",
   "language": "python",
   "name": "python3"
  },
  "language_info": {
   "codemirror_mode": {
    "name": "ipython",
    "version": 3
   },
   "file_extension": ".py",
   "mimetype": "text/x-python",
   "name": "python",
   "nbconvert_exporter": "python",
   "pygments_lexer": "ipython3",
   "version": "3.8.6"
  }
 },
 "nbformat": 4,
 "nbformat_minor": 4
}
